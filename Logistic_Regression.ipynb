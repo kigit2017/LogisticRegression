{
  "nbformat": 4,
  "nbformat_minor": 0,
  "metadata": {
    "colab": {
      "provenance": [],
      "authorship_tag": "ABX9TyOXJeniBsG95O9hBzixYtOS",
      "include_colab_link": true
    },
    "kernelspec": {
      "name": "python3",
      "display_name": "Python 3"
    },
    "language_info": {
      "name": "python"
    }
  },
  "cells": [
    {
      "cell_type": "markdown",
      "metadata": {
        "id": "view-in-github",
        "colab_type": "text"
      },
      "source": [
        "<a href=\"https://colab.research.google.com/github/kigit2017/LogisticRegression/blob/main/Logistic_Regression.ipynb\" target=\"_parent\"><img src=\"https://colab.research.google.com/assets/colab-badge.svg\" alt=\"Open In Colab\"/></a>"
      ]
    },
    {
      "cell_type": "markdown",
      "source": [
        "# Logistic Regression\n",
        "\n",
        "- It is a statical model used for binary calssfication.\n",
        "- It is supervised learning algorithm that predcits the probability of instance belonging to a certain class.\n",
        "- It used classfication\n",
        "- Gola of logistic regression is to finf the best fitting logitic function thatbmaps inout vraibale (features) to the binary output(target variable).\n",
        "- The function which we use is Sigmoid function -\n",
        "- <b> sigmoid = 1/(1+exp(-z) </b>\n",
        "\n",
        "## Understanding the mathematics behind logistic regression.\n",
        "\n",
        "- 1. (Logisticc function (Sigmoid Fucntion):\n",
        "Logistic regression used the sigmoid function to model the realtion ship between the input feature and the binary output varaible.\n",
        " <b> sigmoid(z) = 1/(1+exp(-z) </b>\n",
        " z -> represents the linear combination of the input feature and their corresponding weights.\n",
        "\n",
        " - 2. Linear Combination of Features and Weights:\n",
        " in logistic regression, the linear combination of the input feature (X1,X2,....,Xn) and their corresponding weights (B1,B2,..,Bn) this will be calculated as\n",
        " z = B0 + B1X1 + B2X2 +...+ BnXn.\n",
        " - 3.Probability Calculation:\n",
        " The logistic fucntion is then applied to the linear combination (Z) to obtain the predcited probability (p) of the positive class(class 1).\n",
        "\n",
        " p = sigmoid(z) = 1/(1+exp(-z))\n",
        " the predicted probabilty represents the likelihood ofnthe instance belonging to the positive class.\n",
        " - 4.  Estimating the model Coefficients:\n",
        " The goal of logidtic regression is to estimate the optimal values of the weights (B0,B1,...,Bn) that maximizes the likelihood of observed data.\n",
        " - cost Fucntion (Log Loss):\n",
        " o measure the quality of the model's predicted probability, logistic regression uses the log loss (cross-entropy) as the cost fucntion.\n",
        "\n",
        " Loss = -(1/N)*Summation[y*log(p)+(1-y)*log(1-p)]\n",
        "where N is the number of instances, y represents the rule class label(0 or 1) and ,p represents the predicted probabilities.\n",
        "\n",
        "## Decision Boundary:\n",
        "Once the model is trained, a decision boundary foundation of logistic regression. By estimating the weights and the applying the logistic fucntion to the linear combination of features, logisitic regression models can make probabiltic predcitions and seperate instances into different classes based on a deciosn threshold.\n",
        "The log losss serves as the objective fucntion for training the model and fitting the optimal weight.\n",
        "\n"
      ],
      "metadata": {
        "id": "I56YAQ5CTT8X"
      }
    },
    {
      "cell_type": "markdown",
      "source": [
        "## Evaluation Methods used in Logistic regression:\n",
        "Mehtods used to assess the performance and accuracy of the model:\n",
        "- 1. Accuracy : it the ratio of the number of correct prediction to the total number of predcition.\n",
        "\n",
        "    <b> accuracy = (TP+TN)/(TP+TN+FP+FN) </b>\n",
        "    It will not perform well on our imbalanced dataset.\n",
        "- 2. Precision and Recall:\n",
        "Precision is the Ratio of true positive to the summation of true positive and false positive.\n",
        "\n",
        "    precision = TP /(TP+FP)\n",
        "    it is not considering the True negative and False Negatives.\n",
        "\n",
        "- 3. Recall : is the ratio of tru positive to the summation of true positive and fasle negative.\n",
        "\n",
        "it analyse ethe number of correct positive samples.\n",
        "\n",
        "    recall = TP/ (TP+FN)\n",
        "    It has drawback because not dealing with FP.\n",
        "\n",
        "-4 F Score:\n",
        "F2 score is the harmonic mean of precision and recall\n",
        "\n",
        "      ''' Harmonicn mean is type pf average that is used to fidn the reciprocal of the arithmetic mean of a set of numbers. It defind as the reciprocal of the arithmetic mean of the reciprocal numbers\n",
        "\n",
        "      Harmoci mean= =n/(1/x1 + 1/x2 + 1/x3 + ... + 1/xn)'''\n",
        "\n",
        "Fromula For F1 Score:\n",
        "F1 score =\n",
        "\n",
        "\n",
        "(2*Precision*Recall)/(Precision+Recall)\n",
        "\n",
        "\n",
        "## Confusion Matrix:\n",
        "A confusion matrix is an NXN matrix where N is the number of target classes.\n",
        "It represents the number of actual output and the predcited outputs.\n",
        "SOme terminalogy in confusion matrix are:\n",
        "- <b>True Positive </b> : it is also known TP. It is the output in whihc the actual and the precticted values are YES.\n",
        "- <b>True Negative </b> : It is also kniwn as TN. It is the output in which the actual and the predcited values sasys NO.\n",
        "- <b> False positive </b> : It is also known as FP. It is the output in whihc the actual values is NO but the predicted value is YES.\n",
        "- <b> False Negative </b> : It is alos kniwn as FN. It is the output in whihc the actual values is YES but the predicted value is NO>\n",
        "\n",
        "## AUC-ROC Curve:\n",
        "AUC(area under the curve) Is an evaluation meric that is used to analyze the classification model at different threshold value.\n",
        "\n",
        "The ROC(Receiver Operating Characteristics) : Roc curve is a probablitic curve used to highlight the model's performance .\n",
        "It has Two parameters ⁉\n",
        "- TPR : it stands for True positivr rate. It basically follow the formula of Recall.\n",
        "- FPR :  It stands for False positive rate. Ir defined as the False Postive to the summation of false postive and true negatives."
      ],
      "metadata": {
        "id": "Myn9ER8nZDlo"
      }
    },
    {
      "cell_type": "markdown",
      "source": [
        "## Standard Scalar: -\n",
        "thisvis a preprocessing technique used in machine learning to standarize or to normalize the features of a dataset. It transform the data such that ut has a mean of zero and a standard deviation of one.\n",
        " - Formula z = (x - mu)/s\n",
        " - z is the standarized value (z-score) of a data point\n",
        " - x is the original value of the data point\n",
        " - u(mu) is the mean of the features\n",
        " - s is the standard deviation of the feature.\n",
        " commonly used to bring features to a similr scale, whihc can help algorithm perform better , when features have different untis or scales.\n",
        "   -\n",
        "    from sklear.preprcoessing import StandardScaler\n",
        "    # create s tandard scaler object\n",
        "    scaler = StandardScaler()\n",
        "    # Fit the scaler to the data\n",
        "    scaler.fit(data)\n",
        "    # transform the data\n",
        "    X_scaled = scaler.transform(data)\n",
        "\n"
      ],
      "metadata": {
        "id": "YYOjSXkfyf1Q"
      }
    },
    {
      "cell_type": "code",
      "source": [
        "import numpy as np\n",
        "from sklearn.metrics import roc_auc_score\n",
        "\n",
        "y_true = [1,0,0,1]\n",
        "y_pred = [1,0,0.9,0.2]\n",
        "auc = np.round(roc_auc_score(y_true,y_pred),3)\n",
        "print(\"Auc\", (auc))"
      ],
      "metadata": {
        "colab": {
          "base_uri": "https://localhost:8080/"
        },
        "id": "DGWWWJnvZBsW",
        "outputId": "eff062a1-6afa-4309-c3df-120b477e644b"
      },
      "execution_count": null,
      "outputs": [
        {
          "output_type": "stream",
          "name": "stdout",
          "text": [
            "Auc 0.75\n"
          ]
        }
      ]
    },
    {
      "cell_type": "code",
      "source": [
        "# Project Title\n",
        "%%html\n",
        "<marquee stle = 'width:100%; color:blue;'><b> <h1 style = \"color:SeaGreen; font-family : verdana;\"> Social Network Ads  (Supervised ML)<h1></b></marquee>"
      ],
      "metadata": {
        "colab": {
          "base_uri": "https://localhost:8080/",
          "height": 94
        },
        "id": "6MWhIanO7S0l",
        "outputId": "8d0f88bd-7f8e-45dd-9947-0c20394d03fb"
      },
      "execution_count": null,
      "outputs": [
        {
          "output_type": "display_data",
          "data": {
            "text/plain": [
              "<IPython.core.display.HTML object>"
            ],
            "text/html": [
              "<marquee stle = 'width:100%; color:blue;'><b> <h1 style = \"color:SeaGreen; font-family : verdana;\"> Social Network Ads  (Supervised ML)<h1></b></marquee>\n"
            ]
          },
          "metadata": {}
        }
      ]
    },
    {
      "cell_type": "code",
      "execution_count": null,
      "metadata": {
        "id": "hcdGfhctSZzz"
      },
      "outputs": [],
      "source": [
        "# import libraries\n",
        "import pandas as pd\n",
        "import numpy as np\n",
        "import seaborn as sns\n",
        "import matplotlib.pyplot as plt\n",
        "import warnings\n",
        "from sklearn.preprocessing import LabelEncoder\n",
        "warnings.filterwarnings('ignore')\n",
        "from sklearn.preprocessing import StandardScaler, MinMaxScaler\n",
        "from sklearn.metrics import r2_score, mean_squared_error, accuracy_score\n",
        "from sklearn.linear_model import LinearRegression"
      ]
    },
    {
      "cell_type": "markdown",
      "source": [
        "## **Data Preprocessing**"
      ],
      "metadata": {
        "id": "GyVLoXGw3f3X"
      }
    },
    {
      "cell_type": "markdown",
      "source": [
        " 1.**Load csv File to Data frame**"
      ],
      "metadata": {
        "id": "--U9noQ2E-n-"
      }
    },
    {
      "cell_type": "code",
      "source": [
        "data = pd.read_csv(\"/content/Social_Network_Ads.csv\")"
      ],
      "metadata": {
        "id": "cUaXveFAEoUD"
      },
      "execution_count": null,
      "outputs": []
    },
    {
      "cell_type": "markdown",
      "source": [
        "2.**Desribe data frame to view the statistical data, mean , std, median ,lower,upper quartile values ,minimum and maximum **bold text** **\n"
      ],
      "metadata": {
        "id": "dQn0tU9OFAxJ"
      }
    },
    {
      "cell_type": "code",
      "source": [
        "data.describe().T"
      ],
      "metadata": {
        "colab": {
          "base_uri": "https://localhost:8080/",
          "height": 175
        },
        "id": "KFaRt6HPEyp_",
        "outputId": "2ee5736b-63e2-4371-c13a-bf5e606434a8"
      },
      "execution_count": null,
      "outputs": [
        {
          "output_type": "execute_result",
          "data": {
            "text/plain": [
              "                 count          mean           std         min          25%  \\\n",
              "User ID          400.0  1.569154e+07  71658.321581  15566689.0  15626763.75   \n",
              "Age              400.0  3.765500e+01     10.482877        18.0        29.75   \n",
              "EstimatedSalary  400.0  6.974250e+04  34096.960282     15000.0     43000.00   \n",
              "Purchased        400.0  3.575000e-01      0.479864         0.0         0.00   \n",
              "\n",
              "                        50%         75%         max  \n",
              "User ID          15694341.5  15750363.0  15815236.0  \n",
              "Age                    37.0        46.0        60.0  \n",
              "EstimatedSalary     70000.0     88000.0    150000.0  \n",
              "Purchased               0.0         1.0         1.0  "
            ],
            "text/html": [
              "\n",
              "\n",
              "  <div id=\"df-1bdcbb2a-825a-4163-b9e8-7988f1cc14f8\">\n",
              "    <div class=\"colab-df-container\">\n",
              "      <div>\n",
              "<style scoped>\n",
              "    .dataframe tbody tr th:only-of-type {\n",
              "        vertical-align: middle;\n",
              "    }\n",
              "\n",
              "    .dataframe tbody tr th {\n",
              "        vertical-align: top;\n",
              "    }\n",
              "\n",
              "    .dataframe thead th {\n",
              "        text-align: right;\n",
              "    }\n",
              "</style>\n",
              "<table border=\"1\" class=\"dataframe\">\n",
              "  <thead>\n",
              "    <tr style=\"text-align: right;\">\n",
              "      <th></th>\n",
              "      <th>count</th>\n",
              "      <th>mean</th>\n",
              "      <th>std</th>\n",
              "      <th>min</th>\n",
              "      <th>25%</th>\n",
              "      <th>50%</th>\n",
              "      <th>75%</th>\n",
              "      <th>max</th>\n",
              "    </tr>\n",
              "  </thead>\n",
              "  <tbody>\n",
              "    <tr>\n",
              "      <th>User ID</th>\n",
              "      <td>400.0</td>\n",
              "      <td>1.569154e+07</td>\n",
              "      <td>71658.321581</td>\n",
              "      <td>15566689.0</td>\n",
              "      <td>15626763.75</td>\n",
              "      <td>15694341.5</td>\n",
              "      <td>15750363.0</td>\n",
              "      <td>15815236.0</td>\n",
              "    </tr>\n",
              "    <tr>\n",
              "      <th>Age</th>\n",
              "      <td>400.0</td>\n",
              "      <td>3.765500e+01</td>\n",
              "      <td>10.482877</td>\n",
              "      <td>18.0</td>\n",
              "      <td>29.75</td>\n",
              "      <td>37.0</td>\n",
              "      <td>46.0</td>\n",
              "      <td>60.0</td>\n",
              "    </tr>\n",
              "    <tr>\n",
              "      <th>EstimatedSalary</th>\n",
              "      <td>400.0</td>\n",
              "      <td>6.974250e+04</td>\n",
              "      <td>34096.960282</td>\n",
              "      <td>15000.0</td>\n",
              "      <td>43000.00</td>\n",
              "      <td>70000.0</td>\n",
              "      <td>88000.0</td>\n",
              "      <td>150000.0</td>\n",
              "    </tr>\n",
              "    <tr>\n",
              "      <th>Purchased</th>\n",
              "      <td>400.0</td>\n",
              "      <td>3.575000e-01</td>\n",
              "      <td>0.479864</td>\n",
              "      <td>0.0</td>\n",
              "      <td>0.00</td>\n",
              "      <td>0.0</td>\n",
              "      <td>1.0</td>\n",
              "      <td>1.0</td>\n",
              "    </tr>\n",
              "  </tbody>\n",
              "</table>\n",
              "</div>\n",
              "      <button class=\"colab-df-convert\" onclick=\"convertToInteractive('df-1bdcbb2a-825a-4163-b9e8-7988f1cc14f8')\"\n",
              "              title=\"Convert this dataframe to an interactive table.\"\n",
              "              style=\"display:none;\">\n",
              "\n",
              "  <svg xmlns=\"http://www.w3.org/2000/svg\" height=\"24px\"viewBox=\"0 0 24 24\"\n",
              "       width=\"24px\">\n",
              "    <path d=\"M0 0h24v24H0V0z\" fill=\"none\"/>\n",
              "    <path d=\"M18.56 5.44l.94 2.06.94-2.06 2.06-.94-2.06-.94-.94-2.06-.94 2.06-2.06.94zm-11 1L8.5 8.5l.94-2.06 2.06-.94-2.06-.94L8.5 2.5l-.94 2.06-2.06.94zm10 10l.94 2.06.94-2.06 2.06-.94-2.06-.94-.94-2.06-.94 2.06-2.06.94z\"/><path d=\"M17.41 7.96l-1.37-1.37c-.4-.4-.92-.59-1.43-.59-.52 0-1.04.2-1.43.59L10.3 9.45l-7.72 7.72c-.78.78-.78 2.05 0 2.83L4 21.41c.39.39.9.59 1.41.59.51 0 1.02-.2 1.41-.59l7.78-7.78 2.81-2.81c.8-.78.8-2.07 0-2.86zM5.41 20L4 18.59l7.72-7.72 1.47 1.35L5.41 20z\"/>\n",
              "  </svg>\n",
              "      </button>\n",
              "\n",
              "\n",
              "\n",
              "    <div id=\"df-80cf3d1a-ce6e-4e78-98e7-366958e45b22\">\n",
              "      <button class=\"colab-df-quickchart\" onclick=\"quickchart('df-80cf3d1a-ce6e-4e78-98e7-366958e45b22')\"\n",
              "              title=\"Suggest charts.\"\n",
              "              style=\"display:none;\">\n",
              "\n",
              "<svg xmlns=\"http://www.w3.org/2000/svg\" height=\"24px\"viewBox=\"0 0 24 24\"\n",
              "     width=\"24px\">\n",
              "    <g>\n",
              "        <path d=\"M19 3H5c-1.1 0-2 .9-2 2v14c0 1.1.9 2 2 2h14c1.1 0 2-.9 2-2V5c0-1.1-.9-2-2-2zM9 17H7v-7h2v7zm4 0h-2V7h2v10zm4 0h-2v-4h2v4z\"/>\n",
              "    </g>\n",
              "</svg>\n",
              "      </button>\n",
              "    </div>\n",
              "\n",
              "<style>\n",
              "  .colab-df-quickchart {\n",
              "    background-color: #E8F0FE;\n",
              "    border: none;\n",
              "    border-radius: 50%;\n",
              "    cursor: pointer;\n",
              "    display: none;\n",
              "    fill: #1967D2;\n",
              "    height: 32px;\n",
              "    padding: 0 0 0 0;\n",
              "    width: 32px;\n",
              "  }\n",
              "\n",
              "  .colab-df-quickchart:hover {\n",
              "    background-color: #E2EBFA;\n",
              "    box-shadow: 0px 1px 2px rgba(60, 64, 67, 0.3), 0px 1px 3px 1px rgba(60, 64, 67, 0.15);\n",
              "    fill: #174EA6;\n",
              "  }\n",
              "\n",
              "  [theme=dark] .colab-df-quickchart {\n",
              "    background-color: #3B4455;\n",
              "    fill: #D2E3FC;\n",
              "  }\n",
              "\n",
              "  [theme=dark] .colab-df-quickchart:hover {\n",
              "    background-color: #434B5C;\n",
              "    box-shadow: 0px 1px 3px 1px rgba(0, 0, 0, 0.15);\n",
              "    filter: drop-shadow(0px 1px 2px rgba(0, 0, 0, 0.3));\n",
              "    fill: #FFFFFF;\n",
              "  }\n",
              "</style>\n",
              "\n",
              "    <script>\n",
              "      async function quickchart(key) {\n",
              "        const containerElement = document.querySelector('#' + key);\n",
              "        const charts = await google.colab.kernel.invokeFunction(\n",
              "            'suggestCharts', [key], {});\n",
              "      }\n",
              "    </script>\n",
              "\n",
              "      <script>\n",
              "\n",
              "function displayQuickchartButton(domScope) {\n",
              "  let quickchartButtonEl =\n",
              "    domScope.querySelector('#df-80cf3d1a-ce6e-4e78-98e7-366958e45b22 button.colab-df-quickchart');\n",
              "  quickchartButtonEl.style.display =\n",
              "    google.colab.kernel.accessAllowed ? 'block' : 'none';\n",
              "}\n",
              "\n",
              "        displayQuickchartButton(document);\n",
              "      </script>\n",
              "      <style>\n",
              "    .colab-df-container {\n",
              "      display:flex;\n",
              "      flex-wrap:wrap;\n",
              "      gap: 12px;\n",
              "    }\n",
              "\n",
              "    .colab-df-convert {\n",
              "      background-color: #E8F0FE;\n",
              "      border: none;\n",
              "      border-radius: 50%;\n",
              "      cursor: pointer;\n",
              "      display: none;\n",
              "      fill: #1967D2;\n",
              "      height: 32px;\n",
              "      padding: 0 0 0 0;\n",
              "      width: 32px;\n",
              "    }\n",
              "\n",
              "    .colab-df-convert:hover {\n",
              "      background-color: #E2EBFA;\n",
              "      box-shadow: 0px 1px 2px rgba(60, 64, 67, 0.3), 0px 1px 3px 1px rgba(60, 64, 67, 0.15);\n",
              "      fill: #174EA6;\n",
              "    }\n",
              "\n",
              "    [theme=dark] .colab-df-convert {\n",
              "      background-color: #3B4455;\n",
              "      fill: #D2E3FC;\n",
              "    }\n",
              "\n",
              "    [theme=dark] .colab-df-convert:hover {\n",
              "      background-color: #434B5C;\n",
              "      box-shadow: 0px 1px 3px 1px rgba(0, 0, 0, 0.15);\n",
              "      filter: drop-shadow(0px 1px 2px rgba(0, 0, 0, 0.3));\n",
              "      fill: #FFFFFF;\n",
              "    }\n",
              "  </style>\n",
              "\n",
              "      <script>\n",
              "        const buttonEl =\n",
              "          document.querySelector('#df-1bdcbb2a-825a-4163-b9e8-7988f1cc14f8 button.colab-df-convert');\n",
              "        buttonEl.style.display =\n",
              "          google.colab.kernel.accessAllowed ? 'block' : 'none';\n",
              "\n",
              "        async function convertToInteractive(key) {\n",
              "          const element = document.querySelector('#df-1bdcbb2a-825a-4163-b9e8-7988f1cc14f8');\n",
              "          const dataTable =\n",
              "            await google.colab.kernel.invokeFunction('convertToInteractive',\n",
              "                                                     [key], {});\n",
              "          if (!dataTable) return;\n",
              "\n",
              "          const docLinkHtml = 'Like what you see? Visit the ' +\n",
              "            '<a target=\"_blank\" href=https://colab.research.google.com/notebooks/data_table.ipynb>data table notebook</a>'\n",
              "            + ' to learn more about interactive tables.';\n",
              "          element.innerHTML = '';\n",
              "          dataTable['output_type'] = 'display_data';\n",
              "          await google.colab.output.renderOutput(dataTable, element);\n",
              "          const docLink = document.createElement('div');\n",
              "          docLink.innerHTML = docLinkHtml;\n",
              "          element.appendChild(docLink);\n",
              "        }\n",
              "      </script>\n",
              "    </div>\n",
              "  </div>\n"
            ]
          },
          "metadata": {},
          "execution_count": 36
        }
      ]
    },
    {
      "cell_type": "markdown",
      "source": [
        "3. **info() of the data shows integer and object columns of Social Network Purchase. There are  no Nulls in the data**\n",
        "**We are filtering Age,salary,Purchased data columns to analyze**\n",
        "\n",
        "**The target variable is Purchased**\n",
        "**The input Features are Age,Estimated Salary**\n",
        "1.   UserID - List of users int64\n",
        "2.   Gender - Object\n",
        "3.   Age integer\n",
        "4.  Estimated Salary - integer\n",
        "5. Purchased - Integer\n"
      ],
      "metadata": {
        "id": "ZxvW8A2aFTIv"
      }
    },
    {
      "cell_type": "code",
      "source": [
        "data.info()"
      ],
      "metadata": {
        "colab": {
          "base_uri": "https://localhost:8080/"
        },
        "id": "l-27EUVOFXBY",
        "outputId": "6123ffc2-af41-456a-cb84-369b88cf0673"
      },
      "execution_count": null,
      "outputs": [
        {
          "output_type": "stream",
          "name": "stdout",
          "text": [
            "<class 'pandas.core.frame.DataFrame'>\n",
            "RangeIndex: 400 entries, 0 to 399\n",
            "Data columns (total 5 columns):\n",
            " #   Column           Non-Null Count  Dtype \n",
            "---  ------           --------------  ----- \n",
            " 0   User ID          400 non-null    int64 \n",
            " 1   Gender           400 non-null    object\n",
            " 2   Age              400 non-null    int64 \n",
            " 3   EstimatedSalary  400 non-null    int64 \n",
            " 4   Purchased        400 non-null    int64 \n",
            "dtypes: int64(4), object(1)\n",
            "memory usage: 15.8+ KB\n"
          ]
        }
      ]
    },
    {
      "cell_type": "markdown",
      "source": [
        "# **EDA - Visual Analyzation of data**\n",
        "\n"
      ],
      "metadata": {
        "id": "xiX0DWl_Kvfu"
      }
    },
    {
      "cell_type": "markdown",
      "source": [
        "4. **Copy only columns needed to analyze data:  age,salary and Purchased to new dataframe**\n",
        "Copy Purchased to \"Y\"\n",
        "Copy Age,salary to X\n"
      ],
      "metadata": {
        "id": "lgDnl5BL10QW"
      }
    },
    {
      "cell_type": "code",
      "source": [
        "data.shape\n",
        "data_2 = data[['Age','EstimatedSalary','Purchased']]"
      ],
      "metadata": {
        "id": "ucNMn60uG7ZQ"
      },
      "execution_count": null,
      "outputs": []
    },
    {
      "cell_type": "markdown",
      "source": [],
      "metadata": {
        "id": "m8Xdd4rHKufb"
      }
    },
    {
      "cell_type": "markdown",
      "source": [],
      "metadata": {
        "id": "4d6icipp_O0X"
      }
    },
    {
      "cell_type": "markdown",
      "source": [
        "# **SNS HEAT MAP**\n",
        "**Correlation** data **analysis**: **Age** has more to do with the  **Purchased** than the Salary"
      ],
      "metadata": {
        "id": "dVi7YCGR_RT4"
      }
    },
    {
      "cell_type": "code",
      "source": [
        "# corr()\n",
        "data_corr = data_2.corr()\n",
        "plt.figure(figsize = (8,8))\n",
        "\n",
        "sns.heatmap(data_corr, cmap = 'coolwarm', linewidths = 0.1, annot = True, linecolor = 'White')"
      ],
      "metadata": {
        "colab": {
          "base_uri": "https://localhost:8080/",
          "height": 699
        },
        "outputId": "fbabfc4c-393c-483c-f280-1e6df29c6a66",
        "id": "qTUBWpfA_RT-"
      },
      "execution_count": null,
      "outputs": [
        {
          "output_type": "execute_result",
          "data": {
            "text/plain": [
              "<Axes: >"
            ]
          },
          "metadata": {},
          "execution_count": 39
        },
        {
          "output_type": "display_data",
          "data": {
            "text/plain": [
              "<Figure size 800x800 with 2 Axes>"
            ],
            "image/png": "[encoded data removed]"
          },
          "metadata": {}
        }
      ]
    },
    {
      "cell_type": "markdown",
      "source": [
        "Density plot"
      ],
      "metadata": {
        "id": "LCu5-973_RT_"
      }
    },
    {
      "cell_type": "code",
      "source": [
        "# for checking fucntioning and non functioning day,plot (hour VS Rented Bike COunt Graph)\n",
        "\n",
        "def barplots(x,y,hue):\n",
        "  plt.figure(figsize = (15,7))\n",
        "  sns.set_palette('husl')\n",
        "  sns.barplot(x = x,y = y,hue = hue, data=data_2)\n"
      ],
      "metadata": {
        "id": "AcoShkI2_RT_"
      },
      "execution_count": null,
      "outputs": []
    },
    {
      "cell_type": "markdown",
      "source": [
        "**Barplot for Purchased with Estimated Salary, The Purchased are in the higher Salary**"
      ],
      "metadata": {
        "id": "DZbI9h4S_RT_"
      }
    },
    {
      "cell_type": "code",
      "source": [
        "barplots('Purchased','EstimatedSalary','Purchased')"
      ],
      "metadata": {
        "colab": {
          "base_uri": "https://localhost:8080/",
          "height": 551
        },
        "outputId": "0bb2eb8c-2baf-428e-d289-04c8267dc5e9",
        "id": "tPpbTLLp_RT_"
      },
      "execution_count": null,
      "outputs": [
        {
          "output_type": "display_data",
          "data": {
            "text/plain": [
              "<Figure size 1500x700 with 1 Axes>"
            ],
            "image/png": "[encoded data removed]"
          },
          "metadata": {}
        }
      ]
    },
    {
      "cell_type": "code",
      "source": [
        "x_set,y_set = X_test,y_test\n",
        "y_set.size\n",
        "#plt.scatter(x_set,y_set)"
      ],
      "metadata": {
        "colab": {
          "base_uri": "https://localhost:8080/"
        },
        "outputId": "9cd84239-9710-4dd3-b2b7-3cbf015dd6e3",
        "id": "Wvu1MBSA_RT_"
      },
      "execution_count": null,
      "outputs": [
        {
          "output_type": "execute_result",
          "data": {
            "text/plain": [
              "80"
            ]
          },
          "metadata": {},
          "execution_count": 42
        }
      ]
    },
    {
      "cell_type": "code",
      "source": [
        "X= data.iloc[:,[2,3]].values\n",
        "y= data.iloc[:,[4]].values\n"
      ],
      "metadata": {
        "id": "09SuxBPjv2ca"
      },
      "execution_count": null,
      "outputs": []
    },
    {
      "cell_type": "markdown",
      "source": [
        "**Changed Test size to .2 to increase accuracy**"
      ],
      "metadata": {
        "id": "Y75LlFvqYtDh"
      }
    },
    {
      "cell_type": "code",
      "source": [
        "from sklearn.model_selection import train_test_split\n",
        "X_train,X_test,y_train,y_test = train_test_split(X,y,test_size = 0.2, random_state =0)"
      ],
      "metadata": {
        "id": "LONy4I059R3X"
      },
      "execution_count": null,
      "outputs": []
    },
    {
      "cell_type": "markdown",
      "source": [
        "**SCALAR TRANSFORMATION**"
      ],
      "metadata": {
        "id": "ZvOyu6gwYVSP"
      }
    },
    {
      "cell_type": "code",
      "source": [
        "from sklearn.preprocessing import StandardScaler\n",
        "\n",
        "sc_x = StandardScaler()\n",
        "X_train = sc_x.fit_transform(X_train)\n",
        "X_test = sc_x.transform(X_test)"
      ],
      "metadata": {
        "id": "rxO5RMFlN5Nk"
      },
      "execution_count": null,
      "outputs": []
    },
    {
      "cell_type": "code",
      "source": [
        "print(X_train)"
      ],
      "metadata": {
        "colab": {
          "base_uri": "https://localhost:8080/"
        },
        "id": "nhD-s1XJN5i3",
        "outputId": "78f76943-7d68-4268-be19-6eb68d87570b"
      },
      "execution_count": null,
      "outputs": [
        {
          "output_type": "stream",
          "name": "stdout",
          "text": [
            "[[ 1.92295008e+00  2.14601566e+00]\n",
            " [ 2.02016082e+00  3.78719297e-01]\n",
            " [-1.38221530e+00 -4.32498705e-01]\n",
            " [-1.18779381e+00 -1.01194013e+00]\n",
            " [ 1.92295008e+00 -9.25023920e-01]\n",
            " [ 3.67578135e-01  2.91803083e-01]\n",
            " [ 1.73156642e-01  1.46942725e-01]\n",
            " [ 2.02016082e+00  1.74040666e+00]\n",
            " [ 7.56421121e-01 -8.38107706e-01]\n",
            " [ 2.70367388e-01 -2.87638347e-01]\n",
            " [ 3.67578135e-01 -1.71750061e-01]\n",
            " [-1.18475597e-01  2.20395980e+00]\n",
            " [-1.47942605e+00 -6.35303205e-01]\n",
            " [-1.28500455e+00 -1.06988428e+00]\n",
            " [-1.38221530e+00  4.07691369e-01]\n",
            " [-1.09058306e+00  7.55356227e-01]\n",
            " [-1.47942605e+00 -2.00722133e-01]\n",
            " [ 9.50842613e-01 -1.06988428e+00]\n",
            " [ 9.50842613e-01  5.81523798e-01]\n",
            " [ 3.67578135e-01  9.87132798e-01]\n",
            " [ 5.61999628e-01 -8.96051849e-01]\n",
            " [-6.04529329e-01  1.45068594e+00]\n",
            " [-2.12648508e-02 -5.77359062e-01]\n",
            " [-6.04529329e-01  1.88526701e+00]\n",
            " [ 1.33968560e+00 -1.41754914e+00]\n",
            " [ 1.43689635e+00  9.87132798e-01]\n",
            " [ 7.59458956e-02 -8.09135634e-01]\n",
            " [-2.12648508e-02 -2.58666276e-01]\n",
            " [-2.15686344e-01 -5.77359062e-01]\n",
            " [-2.15686344e-01 -2.00722133e-01]\n",
            " [-3.12897090e-01 -1.30166085e+00]\n",
            " [-3.12897090e-01 -5.77359062e-01]\n",
            " [ 3.67578135e-01  8.89985821e-02]\n",
            " [ 8.53631867e-01 -6.06331134e-01]\n",
            " [ 2.02016082e+00 -1.18577256e+00]\n",
            " [ 1.04805336e+00 -1.42777990e-01]\n",
            " [ 6.59210374e-01  1.76937873e+00]\n",
            " [-7.01740076e-01  5.52551726e-01]\n",
            " [ 7.56421121e-01  3.49747226e-01]\n",
            " [ 8.53631867e-01 -5.48386991e-01]\n",
            " [-1.18779381e+00 -1.59138156e+00]\n",
            " [ 2.11737157e+00  9.29188655e-01]\n",
            " [-2.12648508e-02  1.21890937e+00]\n",
            " [ 1.73156642e-01  1.07404901e+00]\n",
            " [ 3.67578135e-01 -4.90442848e-01]\n",
            " [-3.12897090e-01 -3.16610419e-01]\n",
            " [ 9.50842613e-01 -8.38107706e-01]\n",
            " [ 9.50842613e-01  1.85629494e+00]\n",
            " [-2.12648508e-02  1.24788144e+00]\n",
            " [-8.96161568e-01  2.26190394e+00]\n",
            " [-1.18779381e+00 -1.59138156e+00]\n",
            " [ 2.11737157e+00 -8.09135634e-01]\n",
            " [-1.38221530e+00 -1.47549328e+00]\n",
            " [ 3.67578135e-01  2.29087602e+00]\n",
            " [ 7.56421121e-01  7.55356227e-01]\n",
            " [-9.93372315e-01 -3.16610419e-01]\n",
            " [ 7.59458956e-02  7.55356227e-01]\n",
            " [-9.93372315e-01  5.52551726e-01]\n",
            " [ 2.70367388e-01  6.00265106e-02]\n",
            " [ 6.59210374e-01 -1.27268878e+00]\n",
            " [-5.07318583e-01 -2.68897039e-02]\n",
            " [-1.77105829e+00  3.49747226e-01]\n",
            " [-7.01740076e-01  1.17970654e-01]\n",
            " [ 3.67578135e-01  2.91803083e-01]\n",
            " [-3.12897090e-01  6.00265106e-02]\n",
            " [-5.07318583e-01  2.29087602e+00]\n",
            " [ 1.73156642e-01  3.10544391e-02]\n",
            " [ 1.24247485e+00  2.20395980e+00]\n",
            " [ 7.56421121e-01  2.62831011e-01]\n",
            " [-3.12897090e-01  1.46942725e-01]\n",
            " [-2.12648508e-02 -5.48386991e-01]\n",
            " [-2.15686344e-01  1.46942725e-01]\n",
            " [-1.18475597e-01  2.33858940e-01]\n",
            " [-2.12648508e-02 -2.58666276e-01]\n",
            " [ 2.11737157e+00  1.10302108e+00]\n",
            " [-1.77105829e+00  3.49747226e-01]\n",
            " [ 1.82573933e+00  1.17970654e-01]\n",
            " [ 3.67578135e-01 -1.42777990e-01]\n",
            " [-1.18779381e+00  2.91803083e-01]\n",
            " [ 7.56421121e-01  1.36376973e+00]\n",
            " [-3.12897090e-01 -2.58666276e-01]\n",
            " [-1.67384754e+00 -5.58617754e-02]\n",
            " [-9.93372315e-01 -7.51191491e-01]\n",
            " [ 2.70367388e-01  4.94607583e-01]\n",
            " [-1.18475597e-01 -1.06988428e+00]\n",
            " [-1.09058306e+00  5.81523798e-01]\n",
            " [ 7.59458956e-02 -8.09135634e-01]\n",
            " [-9.93372315e-01  1.53760216e+00]\n",
            " [-7.01740076e-01  1.39274180e+00]\n",
            " [-1.28500455e+00  4.94607583e-01]\n",
            " [-3.12897090e-01  3.10544391e-02]\n",
            " [-1.18475597e-01  2.08236764e-03]\n",
            " [-3.12897090e-01 -8.96051849e-01]\n",
            " [ 8.53631867e-01 -1.35960499e+00]\n",
            " [-3.12897090e-01  2.23293187e+00]\n",
            " [ 9.50842613e-01  1.97218323e+00]\n",
            " [-1.18779381e+00  4.65635512e-01]\n",
            " [-1.28500455e+00  2.62831011e-01]\n",
            " [ 1.33968560e+00  1.97218323e+00]\n",
            " [ 1.24247485e+00 -1.35960499e+00]\n",
            " [-3.12897090e-01 -2.87638347e-01]\n",
            " [-5.07318583e-01  1.24788144e+00]\n",
            " [-7.98950822e-01  1.07404901e+00]\n",
            " [ 9.50842613e-01 -1.06988428e+00]\n",
            " [ 2.70367388e-01  2.91803083e-01]\n",
            " [ 9.50842613e-01  7.55356227e-01]\n",
            " [-7.01740076e-01 -1.50446535e+00]\n",
            " [-7.01740076e-01  3.10544391e-02]\n",
            " [ 4.64788881e-01  1.71143459e+00]\n",
            " [ 2.02016082e+00  1.75914797e-01]\n",
            " [-1.96547978e+00 -7.51191491e-01]\n",
            " [-2.15686344e-01  1.39274180e+00]\n",
            " [ 3.67578135e-01  5.81523798e-01]\n",
            " [ 8.53631867e-01 -1.15680049e+00]\n",
            " [-1.18779381e+00 -7.80163563e-01]\n",
            " [ 1.73156642e-01  2.33858940e-01]\n",
            " [ 7.56421121e-01 -3.16610419e-01]\n",
            " [ 2.02016082e+00 -8.09135634e-01]\n",
            " [ 7.56421121e-01  1.17970654e-01]\n",
            " [-3.12897090e-01  6.10495869e-01]\n",
            " [-9.93372315e-01 -3.16610419e-01]\n",
            " [ 1.73156642e-01 -3.74554562e-01]\n",
            " [ 2.02016082e+00  2.11704359e+00]\n",
            " [ 1.82573933e+00 -1.27268878e+00]\n",
            " [ 1.33968560e+00 -9.25023920e-01]\n",
            " [ 8.53631867e-01  1.24788144e+00]\n",
            " [ 1.43689635e+00  2.11704359e+00]\n",
            " [-3.12897090e-01 -1.24371671e+00]\n",
            " [ 1.92295008e+00  9.00216584e-01]\n",
            " [ 6.59210374e-01 -7.22219420e-01]\n",
            " [-1.47942605e+00  3.49747226e-01]\n",
            " [ 7.56421121e-01 -1.35960499e+00]\n",
            " [ 3.67578135e-01 -1.42777990e-01]\n",
            " [-9.93372315e-01  4.07691369e-01]\n",
            " [-2.12648508e-02 -3.16610419e-01]\n",
            " [-1.18779381e+00  4.07691369e-01]\n",
            " [-8.96161568e-01 -1.21474464e+00]\n",
            " [-1.18475597e-01  3.10544391e-02]\n",
            " [-1.57663679e+00 -4.32498705e-01]\n",
            " [ 9.50842613e-01 -1.01194013e+00]\n",
            " [ 1.04805336e+00 -1.21474464e+00]\n",
            " [-2.12648508e-02 -1.42777990e-01]\n",
            " [-1.09058306e+00 -1.53343742e+00]\n",
            " [ 7.56421121e-01 -1.21474464e+00]\n",
            " [ 9.50842613e-01  2.05909944e+00]\n",
            " [-1.18779381e+00 -1.53343742e+00]\n",
            " [-3.12897090e-01  7.84328298e-01]\n",
            " [ 7.59458956e-02 -3.16610419e-01]\n",
            " [-1.38221530e+00 -1.24371671e+00]\n",
            " [-6.04529329e-01 -1.50446535e+00]\n",
            " [ 7.56421121e-01  5.23579655e-01]\n",
            " [-3.12897090e-01 -3.45582490e-01]\n",
            " [ 1.72852858e+00 -2.87638347e-01]\n",
            " [ 8.53631867e-01 -1.04091221e+00]\n",
            " [ 1.73156642e-01  6.00265106e-02]\n",
            " [-6.04529329e-01  8.71244512e-01]\n",
            " [-1.86826903e+00 -1.41754914e+00]\n",
            " [-1.28500455e+00  5.81523798e-01]\n",
            " [-3.12897090e-01  5.23579655e-01]\n",
            " [-9.93372315e-01 -1.09885635e+00]\n",
            " [ 1.14526411e+00 -1.44652121e+00]\n",
            " [ 1.73156642e-01 -3.16610419e-01]\n",
            " [ 1.14526411e+00 -7.51191491e-01]\n",
            " [-3.12897090e-01  6.00265106e-02]\n",
            " [ 1.73156642e-01  2.08807152e+00]\n",
            " [ 7.56421121e-01 -1.09885635e+00]\n",
            " [ 7.59458956e-02  3.10544391e-02]\n",
            " [-1.77105829e+00  1.17970654e-01]\n",
            " [-8.96161568e-01  1.46942725e-01]\n",
            " [-7.01740076e-01  1.75914797e-01]\n",
            " [ 8.53631867e-01 -1.30166085e+00]\n",
            " [ 1.73156642e-01 -2.58666276e-01]\n",
            " [-4.10107836e-01  1.21890937e+00]\n",
            " [-2.12648508e-02  2.91803083e-01]\n",
            " [ 3.67578135e-01  1.46942725e-01]\n",
            " [ 8.53631867e-01 -6.64275277e-01]\n",
            " [ 7.59458956e-02  1.46942725e-01]\n",
            " [-1.86826903e+00 -1.30166085e+00]\n",
            " [-1.18475597e-01  2.91803083e-01]\n",
            " [-2.15686344e-01 -2.87638347e-01]\n",
            " [ 2.70367388e-01 -5.19414919e-01]\n",
            " [-2.15686344e-01  1.59554630e+00]\n",
            " [ 9.50842613e-01 -1.18577256e+00]\n",
            " [-2.15686344e-01  1.62451837e+00]\n",
            " [ 1.24247485e+00  1.85629494e+00]\n",
            " [-1.09058306e+00 -3.74554562e-01]\n",
            " [-2.12648508e-02  3.10544391e-02]\n",
            " [ 7.59458956e-02 -2.58666276e-01]\n",
            " [-1.57663679e+00 -1.24371671e+00]\n",
            " [-5.07318583e-01 -2.87638347e-01]\n",
            " [ 9.50842613e-01  1.17970654e-01]\n",
            " [ 1.92295008e+00 -1.35960499e+00]\n",
            " [ 1.43689635e+00  6.00265106e-02]\n",
            " [-6.04529329e-01  1.36376973e+00]\n",
            " [ 1.53410709e+00  2.08236764e-03]\n",
            " [-7.98950822e-01  2.91803083e-01]\n",
            " [ 1.92295008e+00  7.26384155e-01]\n",
            " [-1.18779381e+00 -5.19414919e-01]\n",
            " [ 6.59210374e-01  2.62831011e-01]\n",
            " [-1.38221530e+00 -4.32498705e-01]\n",
            " [ 1.73156642e-01  1.46942725e-01]\n",
            " [-5.07318583e-01 -1.21474464e+00]\n",
            " [ 5.61999628e-01  2.00115530e+00]\n",
            " [-1.57663679e+00 -1.50446535e+00]\n",
            " [-5.07318583e-01 -5.48386991e-01]\n",
            " [ 4.64788881e-01  1.82732287e+00]\n",
            " [-1.38221530e+00 -1.09885635e+00]\n",
            " [ 7.56421121e-01 -1.38857706e+00]\n",
            " [-3.12897090e-01 -4.32498705e-01]\n",
            " [ 1.53410709e+00  9.87132798e-01]\n",
            " [ 9.50842613e-01  1.42171387e+00]\n",
            " [-3.12897090e-01 -4.90442848e-01]\n",
            " [-1.18475597e-01  2.14601566e+00]\n",
            " [-1.47942605e+00 -1.13805918e-01]\n",
            " [-1.18475597e-01  1.94321116e+00]\n",
            " [-7.01740076e-01 -3.45582490e-01]\n",
            " [-5.07318583e-01 -8.38107706e-01]\n",
            " [ 6.59210374e-01 -1.38857706e+00]\n",
            " [-7.98950822e-01 -1.59138156e+00]\n",
            " [-1.86826903e+00 -1.47549328e+00]\n",
            " [ 1.04805336e+00  1.17970654e-01]\n",
            " [ 7.59458956e-02  1.50863009e+00]\n",
            " [-3.12897090e-01  8.89985821e-02]\n",
            " [ 7.59458956e-02  3.10544391e-02]\n",
            " [-1.38221530e+00 -1.35960499e+00]\n",
            " [ 2.70367388e-01  6.00265106e-02]\n",
            " [-8.96161568e-01  3.78719297e-01]\n",
            " [ 1.53410709e+00 -1.27268878e+00]\n",
            " [-3.12897090e-01 -7.51191491e-01]\n",
            " [-1.18475597e-01  1.46942725e-01]\n",
            " [-8.96161568e-01 -6.64275277e-01]\n",
            " [-7.01740076e-01 -5.58617754e-02]\n",
            " [ 3.67578135e-01 -4.61470776e-01]\n",
            " [-7.98950822e-01  1.88526701e+00]\n",
            " [ 1.33968560e+00  1.27685351e+00]\n",
            " [ 1.14526411e+00 -9.82968063e-01]\n",
            " [ 1.72852858e+00  1.82732287e+00]\n",
            " [-8.96161568e-01 -2.58666276e-01]\n",
            " [-7.98950822e-01  5.52551726e-01]\n",
            " [-1.18779381e+00 -1.56240949e+00]\n",
            " [-5.07318583e-01 -1.12782842e+00]\n",
            " [ 2.70367388e-01  6.00265106e-02]\n",
            " [-2.15686344e-01 -1.06988428e+00]\n",
            " [ 1.63131784e+00  1.59554630e+00]\n",
            " [ 9.50842613e-01  1.76937873e+00]\n",
            " [ 2.70367388e-01  3.10544391e-02]\n",
            " [-7.98950822e-01 -2.29694204e-01]\n",
            " [-1.18475597e-01  6.00265106e-02]\n",
            " [ 2.70367388e-01 -2.00722133e-01]\n",
            " [ 1.92295008e+00 -6.64275277e-01]\n",
            " [-7.98950822e-01  1.33479766e+00]\n",
            " [-1.77105829e+00 -6.06331134e-01]\n",
            " [-1.18475597e-01  1.17970654e-01]\n",
            " [ 2.70367388e-01 -3.16610419e-01]\n",
            " [ 1.04805336e+00  5.52551726e-01]\n",
            " [-9.93372315e-01  2.62831011e-01]\n",
            " [ 1.43689635e+00  3.49747226e-01]\n",
            " [ 1.73156642e-01 -3.74554562e-01]\n",
            " [ 2.11737157e+00 -1.04091221e+00]\n",
            " [-3.12897090e-01  1.10302108e+00]\n",
            " [-1.67384754e+00  6.00265106e-02]\n",
            " [-2.12648508e-02  3.10544391e-02]\n",
            " [ 7.59458956e-02  1.04507694e+00]\n",
            " [-1.18475597e-01 -3.74554562e-01]\n",
            " [-1.18779381e+00  6.00265106e-02]\n",
            " [-3.12897090e-01 -1.35960499e+00]\n",
            " [ 1.53410709e+00  1.10302108e+00]\n",
            " [-7.98950822e-01 -1.53343742e+00]\n",
            " [ 7.59458956e-02  1.85629494e+00]\n",
            " [-8.96161568e-01 -7.80163563e-01]\n",
            " [-5.07318583e-01 -7.80163563e-01]\n",
            " [-3.12897090e-01 -9.25023920e-01]\n",
            " [ 2.70367388e-01 -7.22219420e-01]\n",
            " [ 2.70367388e-01  6.00265106e-02]\n",
            " [ 7.59458956e-02  1.85629494e+00]\n",
            " [-1.09058306e+00  1.94321116e+00]\n",
            " [-1.67384754e+00 -1.56240949e+00]\n",
            " [-1.18779381e+00 -1.09885635e+00]\n",
            " [-7.01740076e-01 -1.13805918e-01]\n",
            " [ 7.59458956e-02  8.89985821e-02]\n",
            " [ 2.70367388e-01  2.62831011e-01]\n",
            " [ 8.53631867e-01 -5.77359062e-01]\n",
            " [ 2.70367388e-01 -1.15680049e+00]\n",
            " [-1.18475597e-01  6.68440012e-01]\n",
            " [ 2.11737157e+00 -6.93247348e-01]\n",
            " [-1.28500455e+00 -1.38857706e+00]\n",
            " [-9.93372315e-01 -9.53995992e-01]\n",
            " [-2.12648508e-02 -4.32498705e-01]\n",
            " [-2.15686344e-01 -4.61470776e-01]\n",
            " [-1.77105829e+00 -9.82968063e-01]\n",
            " [ 1.72852858e+00  9.87132798e-01]\n",
            " [ 1.73156642e-01 -3.74554562e-01]\n",
            " [ 3.67578135e-01  1.10302108e+00]\n",
            " [-1.77105829e+00 -1.35960499e+00]\n",
            " [ 1.73156642e-01 -1.42777990e-01]\n",
            " [ 8.53631867e-01 -1.44652121e+00]\n",
            " [-1.96547978e+00  4.65635512e-01]\n",
            " [-3.12897090e-01  2.62831011e-01]\n",
            " [ 1.82573933e+00 -1.06988428e+00]\n",
            " [-4.10107836e-01  6.00265106e-02]\n",
            " [ 1.04805336e+00 -8.96051849e-01]\n",
            " [-1.09058306e+00 -1.12782842e+00]\n",
            " [-1.86826903e+00  2.08236764e-03]\n",
            " [ 7.59458956e-02  2.62831011e-01]\n",
            " [-1.18779381e+00  3.20775154e-01]\n",
            " [-1.28500455e+00  2.91803083e-01]\n",
            " [-9.93372315e-01  4.36663440e-01]\n",
            " [ 1.63131784e+00 -8.96051849e-01]\n",
            " [ 1.14526411e+00  5.23579655e-01]\n",
            " [ 1.04805336e+00  5.23579655e-01]\n",
            " [ 1.33968560e+00  2.31984809e+00]\n",
            " [-3.12897090e-01 -1.42777990e-01]\n",
            " [ 3.67578135e-01 -4.61470776e-01]\n",
            " [-4.10107836e-01 -7.80163563e-01]\n",
            " [-1.18475597e-01 -5.19414919e-01]\n",
            " [ 9.50842613e-01 -1.15680049e+00]\n",
            " [-8.96161568e-01 -7.80163563e-01]\n",
            " [-2.15686344e-01 -5.19414919e-01]\n",
            " [-1.09058306e+00 -4.61470776e-01]\n",
            " [-1.18779381e+00  1.39274180e+00]]\n"
          ]
        }
      ]
    },
    {
      "cell_type": "code",
      "source": [
        "from sklearn.linear_model import LogisticRegression\n",
        "model_1_classifier = LogisticRegression()\n",
        "model_1_classifier.fit(X_train,y_train)"
      ],
      "metadata": {
        "colab": {
          "base_uri": "https://localhost:8080/",
          "height": 74
        },
        "id": "i8DdKMvmOpps",
        "outputId": "69f28e12-1b7b-4c3a-9d2f-ae7092e1c254"
      },
      "execution_count": null,
      "outputs": [
        {
          "output_type": "execute_result",
          "data": {
            "text/plain": [
              "LogisticRegression()"
            ],
            "text/html": [
              "<style>#sk-container-id-2 {color: black;background-color: white;}#sk-container-id-2 pre{padding: 0;}#sk-container-id-2 div.sk-toggleable {background-color: white;}#sk-container-id-2 label.sk-toggleable__label {cursor: pointer;display: block;width: 100%;margin-bottom: 0;padding: 0.3em;box-sizing: border-box;text-align: center;}#sk-container-id-2 label.sk-toggleable__label-arrow:before {content: \"▸\";float: left;margin-right: 0.25em;color: #696969;}#sk-container-id-2 label.sk-toggleable__label-arrow:hover:before {color: black;}#sk-container-id-2 div.sk-estimator:hover label.sk-toggleable__label-arrow:before {color: black;}#sk-container-id-2 div.sk-toggleable__content {max-height: 0;max-width: 0;overflow: hidden;text-align: left;background-color: #f0f8ff;}#sk-container-id-2 div.sk-toggleable__content pre {margin: 0.2em;color: black;border-radius: 0.25em;background-color: #f0f8ff;}#sk-container-id-2 input.sk-toggleable__control:checked~div.sk-toggleable__content {max-height: 200px;max-width: 100%;overflow: auto;}#sk-container-id-2 input.sk-toggleable__control:checked~label.sk-toggleable__label-arrow:before {content: \"▾\";}#sk-container-id-2 div.sk-estimator input.sk-toggleable__control:checked~label.sk-toggleable__label {background-color: #d4ebff;}#sk-container-id-2 div.sk-label input.sk-toggleable__control:checked~label.sk-toggleable__label {background-color: #d4ebff;}#sk-container-id-2 input.sk-hidden--visually {border: 0;clip: rect(1px 1px 1px 1px);clip: rect(1px, 1px, 1px, 1px);height: 1px;margin: -1px;overflow: hidden;padding: 0;position: absolute;width: 1px;}#sk-container-id-2 div.sk-estimator {font-family: monospace;background-color: #f0f8ff;border: 1px dotted black;border-radius: 0.25em;box-sizing: border-box;margin-bottom: 0.5em;}#sk-container-id-2 div.sk-estimator:hover {background-color: #d4ebff;}#sk-container-id-2 div.sk-parallel-item::after {content: \"\";width: 100%;border-bottom: 1px solid gray;flex-grow: 1;}#sk-container-id-2 div.sk-label:hover label.sk-toggleable__label {background-color: #d4ebff;}#sk-container-id-2 div.sk-serial::before {content: \"\";position: absolute;border-left: 1px solid gray;box-sizing: border-box;top: 0;bottom: 0;left: 50%;z-index: 0;}#sk-container-id-2 div.sk-serial {display: flex;flex-direction: column;align-items: center;background-color: white;padding-right: 0.2em;padding-left: 0.2em;position: relative;}#sk-container-id-2 div.sk-item {position: relative;z-index: 1;}#sk-container-id-2 div.sk-parallel {display: flex;align-items: stretch;justify-content: center;background-color: white;position: relative;}#sk-container-id-2 div.sk-item::before, #sk-container-id-2 div.sk-parallel-item::before {content: \"\";position: absolute;border-left: 1px solid gray;box-sizing: border-box;top: 0;bottom: 0;left: 50%;z-index: -1;}#sk-container-id-2 div.sk-parallel-item {display: flex;flex-direction: column;z-index: 1;position: relative;background-color: white;}#sk-container-id-2 div.sk-parallel-item:first-child::after {align-self: flex-end;width: 50%;}#sk-container-id-2 div.sk-parallel-item:last-child::after {align-self: flex-start;width: 50%;}#sk-container-id-2 div.sk-parallel-item:only-child::after {width: 0;}#sk-container-id-2 div.sk-dashed-wrapped {border: 1px dashed gray;margin: 0 0.4em 0.5em 0.4em;box-sizing: border-box;padding-bottom: 0.4em;background-color: white;}#sk-container-id-2 div.sk-label label {font-family: monospace;font-weight: bold;display: inline-block;line-height: 1.2em;}#sk-container-id-2 div.sk-label-container {text-align: center;}#sk-container-id-2 div.sk-container {/* jupyter's `normalize.less` sets `[hidden] { display: none; }` but bootstrap.min.css set `[hidden] { display: none !important; }` so we also need the `!important` here to be able to override the default hidden behavior on the sphinx rendered scikit-learn.org. See: https://github.com/scikit-learn/scikit-learn/issues/21755 */display: inline-block !important;position: relative;}#sk-container-id-2 div.sk-text-repr-fallback {display: none;}</style><div id=\"sk-container-id-2\" class=\"sk-top-container\"><div class=\"sk-text-repr-fallback\"><pre>LogisticRegression()</pre><b>In a Jupyter environment, please rerun this cell to show the HTML representation or trust the notebook. <br />On GitHub, the HTML representation is unable to render, please try loading this page with nbviewer.org.</b></div><div class=\"sk-container\" hidden><div class=\"sk-item\"><div class=\"sk-estimator sk-toggleable\"><input class=\"sk-toggleable__control sk-hidden--visually\" id=\"sk-estimator-id-2\" type=\"checkbox\" checked><label for=\"sk-estimator-id-2\" class=\"sk-toggleable__label sk-toggleable__label-arrow\">LogisticRegression</label><div class=\"sk-toggleable__content\"><pre>LogisticRegression()</pre></div></div></div></div></div>"
            ]
          },
          "metadata": {},
          "execution_count": 47
        }
      ]
    },
    {
      "cell_type": "code",
      "source": [
        "y_pred = model_1_classifier.predict(X_test)\n",
        "y_pred"
      ],
      "metadata": {
        "colab": {
          "base_uri": "https://localhost:8080/"
        },
        "id": "ycPsQroPPNZN",
        "outputId": "66c274ef-6e23-4277-bb05-cfb66f1238b5"
      },
      "execution_count": null,
      "outputs": [
        {
          "output_type": "execute_result",
          "data": {
            "text/plain": [
              "array([0, 0, 0, 0, 0, 0, 0, 1, 0, 0, 0, 0, 0, 0, 0, 0, 0, 0, 1, 0, 0, 1,\n",
              "       0, 1, 0, 1, 0, 0, 0, 0, 0, 0, 1, 0, 0, 0, 0, 0, 0, 1, 0, 0, 0, 0,\n",
              "       1, 0, 0, 1, 0, 1, 1, 0, 0, 0, 1, 0, 0, 0, 0, 0, 0, 1, 0, 0, 0, 1,\n",
              "       0, 0, 0, 0, 1, 0, 0, 0, 0, 0, 1, 0, 1, 1])"
            ]
          },
          "metadata": {},
          "execution_count": 48
        }
      ]
    },
    {
      "cell_type": "markdown",
      "source": [
        "**FP and FN are 1 and 5. Showing inaccurate data. TP and TN are 57 and 17.:**\n",
        "\n",
        "> Indented block\n",
        "\n"
      ],
      "metadata": {
        "id": "NPdvxLhAY_y7"
      }
    },
    {
      "cell_type": "code",
      "source": [
        "from sklearn import metrics\n",
        "print(metrics.confusion_matrix(y_test, y_pred, labels = [0,1]))"
      ],
      "metadata": {
        "colab": {
          "base_uri": "https://localhost:8080/"
        },
        "id": "0ng2SjiQPbX-",
        "outputId": "e9872d85-573c-448a-ad23-927b711fea44"
      },
      "execution_count": null,
      "outputs": [
        {
          "output_type": "stream",
          "name": "stdout",
          "text": [
            "[[57  1]\n",
            " [ 5 17]]\n"
          ]
        }
      ]
    },
    {
      "cell_type": "markdown",
      "source": [
        "# **Report Shows accuracy of 93 percent.**"
      ],
      "metadata": {
        "id": "9mIrJ86qZMBt"
      }
    },
    {
      "cell_type": "code",
      "source": [
        "print(metrics.classification_report(y_test,y_pred, labels = [0,1]))"
      ],
      "metadata": {
        "colab": {
          "base_uri": "https://localhost:8080/"
        },
        "id": "MCioBLLKP1yc",
        "outputId": "f35af49a-32b1-4d3d-ab5f-6f1cacfcfc1d"
      },
      "execution_count": null,
      "outputs": [
        {
          "output_type": "stream",
          "name": "stdout",
          "text": [
            "              precision    recall  f1-score   support\n",
            "\n",
            "           0       0.92      0.98      0.95        58\n",
            "           1       0.94      0.77      0.85        22\n",
            "\n",
            "    accuracy                           0.93        80\n",
            "   macro avg       0.93      0.88      0.90        80\n",
            "weighted avg       0.93      0.93      0.92        80\n",
            "\n"
          ]
        }
      ]
    },
    {
      "cell_type": "markdown",
      "source": [
        "# **Conclusion**: Training and testing data Model prediction.\n",
        "1. Using Logistic Regression, Fit Model with training data.\n",
        "2.Get Predicted Y(Y_pred) from X test in the model\n",
        "3. Confusion Matrix results for Y_test and Y_pred show FP(False Positive) and FN(False Negative) values are 1 and 5. Showing inaccurate data. TP(True Positive) and TN(True Negative) are 57 and 17.\n",
        "4. Test data size is increased to .2.\n",
        "5. Classification Report for predicted values show accuracy of 93 percent.\n"
      ],
      "metadata": {
        "id": "8F_hYZx7_zpx"
      }
    }
  ]
}