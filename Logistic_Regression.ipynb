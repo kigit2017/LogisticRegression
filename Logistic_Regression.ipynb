{
  "nbformat": 4,
  "nbformat_minor": 0,
  "metadata": {
    "colab": {
      "provenance": [],
      "authorship_tag": "ABX9TyNye8U9Y1SUeUHG3Irdw5op",
      "include_colab_link": true
    },
    "kernelspec": {
      "name": "python3",
      "display_name": "Python 3"
    },
    "language_info": {
      "name": "python"
    }
  },
  "cells": [
    {
      "cell_type": "markdown",
      "metadata": {
        "id": "view-in-github",
        "colab_type": "text"
      },
      "source": [
        "<a href=\"https://colab.research.google.com/github/kigit2017/LogisticRegression/blob/main/Logistic_Regression.ipynb\" target=\"_parent\"><img src=\"https://colab.research.google.com/assets/colab-badge.svg\" alt=\"Open In Colab\"/></a>"
      ]
    },
    {
      "cell_type": "markdown",
      "source": [
        "# Logistic Regession\n",
        "\n",
        "- It is a statical model used for binary calssfication.\n",
        "- It is supervised learning algorithm that predcits the probability of instance belonging to a certain class.\n",
        "- It used classfication\n",
        "- Gola of logistic regression is to finf the best fitting logitic function thatbmaps inout vraibale (features) to the binary output(target variable).\n",
        "- The function which we use is Sigmoid function -\n",
        "- <b> sigmoid = 1/(1+exp(-z) </b>\n",
        "\n",
        "## Understanding the mathematics behind logistic regression.\n",
        "\n",
        "- 1. (Logisticc function (Sigmoid Fucntion):\n",
        "Logistic regression used the sigmoid function to model the realtion ship between the input feature and the binary output varaible.\n",
        " <b> sigmoid(z) = 1/(1+exp(-z) </b>\n",
        " z -> represents the linear combination of the input feature and their corresponding weights.\n",
        "\n",
        " - 2. Linear Combination of Features and Weights:\n",
        " in logistic regression, the linear combination of the input feature (X1,X2,....,Xn) and their corresponding weights (B1,B2,..,Bn) this will be calculated as\n",
        " z = B0 + B1X1 + B2X2 +...+ BnXn.\n",
        " - 3.Probability Calculation:\n",
        " The logistic fucntion is then applied to the linear combination (Z) to obtain the predcited probability (p) of the positive class(class 1).\n",
        "\n",
        " p = sigmoid(z) = 1/(1+exp(-z))\n",
        " the predicted probabilty represents the likelihood ofnthe instance belonging to the positive class.\n",
        " - 4.  Estimating the model Coefficients:\n",
        " The goal of logidtic regression is to estimate the optimal values of the weights (B0,B1,...,Bn) that maximizes the likelihood of observed data.\n",
        " - cost Fucntion (Log Loss):\n",
        " o measure the quality of the model's predicted probability, logistic regression uses the log loss (cross-entropy) as the cost fucntion.\n",
        "\n",
        " Loss = -(1/N)*Summation[y*log(p)+(1-y)*log(1-p)]\n",
        "where N is the number of instances, y represents the rule class label(0 or 1) and ,p represents the predicted probabilities.\n",
        "\n",
        "## Decision Boundary:\n",
        "Once the model is trained, a decision boundary foundation of logistic regression. By estimating the weights and the applying the logistic fucntion to the linear combination of features, logisitic regression models can make probabiltic predcitions and seperate instances into different classes based on a deciosn threshold.\n",
        "The log losss serves as the objective fucntion for training the model and fitting the optimal weight.\n",
        "\n"
      ],
      "metadata": {
        "id": "I56YAQ5CTT8X"
      }
    },
    {
      "cell_type": "markdown",
      "source": [
        "## Evaluation Methods used in Logistic regression:\n",
        "Mehtods used to assess the performance and accuracy of the model:\n",
        "- 1. Accuracy : it the ratio of the number of correct prediction to the total number of predcition.\n",
        "\n",
        "    <b> accuracy = (TP+TN)/(TP+TN+FP+FN) </b>\n",
        "    It will not perform well on our imbalanced dataset.\n",
        "- 2. Precision and Recall:\n",
        "Precision is the Ratio of true positive to the summation of true positive and false positive.\n",
        "\n",
        "    precision = TP /(TP+FP)\n",
        "    it is not considering the True negative and False Negatives.\n",
        "\n",
        "- 3. Recall : is the ratio of tru positive to the summation of true positive and fasle negative.\n",
        "\n",
        "it analyse ethe number of correct positive samples.\n",
        "\n",
        "    recall = TP/ (TP+FN)\n",
        "    It has drawback because not dealing with FP.\n",
        "\n",
        "-4 F Score:\n",
        "F2 score is the harmonic mean of precision and recall\n",
        "\n",
        "      ''' Harmonicn mean is type pf average that is used to fidn the reciprocal of the arithmetic mean of a set of numbers. It defind as the reciprocal of the arithmetic mean of the reciprocal numbers\n",
        "\n",
        "      Harmoci mean= =n/(1/x1 + 1/x2 + 1/x3 + ... + 1/xn)'''\n",
        "\n",
        "Fromula For F1 Score:\n",
        "F1 score =\n",
        "\n",
        "\n",
        "(2*Precision*Recall)/(Precision+Recall)\n",
        "\n",
        "\n",
        "## Confusion Matrix:\n",
        "A confusion matrix is an NXN matrix where N is the number of target classes.\n",
        "It represents the number of actual output and the predcited outputs.\n",
        "SOme terminalogy in confusion matrix are:\n",
        "- <b>True Positive </b> : it is also known TP. It is the output in whihc the actual and the precticted values are YES.\n",
        "- <b>True Negative </b> : It is also kniwn as TN. It is the output in which the actual and the predcited values sasys NO.\n",
        "- <b> False positive </b> : It is also known as FP. It is the output in whihc the actual values is NO but the predicted value is YES.\n",
        "- <b> False Negative </b> : It is alos kniwn as FN. It is the output in whihc the actual values is YES but the predicted value is NO>\n",
        "\n",
        "## AUC-ROC Curve:\n",
        "AUC(area under the curve) Is an evaluation meric that is used to analyze the classification model at different threshold value.\n",
        "\n",
        "The ROC(Receiver Operating Characteristics) : Roc curve is a probablitic curve used to highlight the model's performance .\n",
        "It has Two parameters ⁉\n",
        "- TPR : it stands for True positivr rate. It basically follow the formula of Recall.\n",
        "- FPR :  It stands for False positive rate. Ir defined as the False Postive to the summation of false postive and true negatives."
      ],
      "metadata": {
        "id": "Myn9ER8nZDlo"
      }
    },
    {
      "cell_type": "markdown",
      "source": [
        "## Standard Scalar: -\n",
        "thisvis a preprocessing technique used in machine learning to standarize or to normalize the features of a dataset. It transform the data such that ut has a mean of zero and a standard deviation of one.\n",
        " - Formula z = (x - mu)/s\n",
        " - z is the standarized value (z-score) of a data point\n",
        " - x is the original value of the data point\n",
        " - u(mu) is the mean of the features\n",
        " - s is the standard deviation of the feature.\n",
        " commonly used to bring features to a similr scale, whihc can help algorithm perform better , when features have different untis or scales.\n",
        "   -\n",
        "    from sklear.preprcoessing import StandardScaler\n",
        "    # create s tandard scaler object\n",
        "    scaler = StandardScaler()\n",
        "    # Fit the scaler to the data\n",
        "    scaler.fit(data)\n",
        "    # transform the data\n",
        "    X_scaled = scaler.transform(data)\n",
        "\n"
      ],
      "metadata": {
        "id": "YYOjSXkfyf1Q"
      }
    },
    {
      "cell_type": "code",
      "source": [
        "import numpy as np\n",
        "from sklearn.metrics import roc_auc_score\n",
        "\n",
        "y_true = [1,0,0,1]\n",
        "y_pred = [1,0,0.9,0.2]\n",
        "auc = np.round(roc_auc_score(y_true,y_pred),3)\n",
        "print(\"Auc\", (auc))"
      ],
      "metadata": {
        "colab": {
          "base_uri": "https://localhost:8080/"
        },
        "id": "DGWWWJnvZBsW",
        "outputId": "0757e94f-57d3-42ce-86d3-085b3250eba7"
      },
      "execution_count": 214,
      "outputs": [
        {
          "output_type": "stream",
          "name": "stdout",
          "text": [
            "Auc 0.75\n"
          ]
        }
      ]
    },
    {
      "cell_type": "code",
      "source": [
        "# Project Title\n",
        "%%html\n",
        "<marquee stle = 'width:100%; color:blue;'><b> <h1 style = \"color:SeaGreen; font-family : verdana;\"> Social Network Ads  (Supervised ML)<h1></b></marquee>"
      ],
      "metadata": {
        "colab": {
          "base_uri": "https://localhost:8080/",
          "height": 94
        },
        "id": "6MWhIanO7S0l",
        "outputId": "72439ee7-df0f-4b8a-bbc0-114052ba2c9b"
      },
      "execution_count": 215,
      "outputs": [
        {
          "output_type": "display_data",
          "data": {
            "text/plain": [
              "<IPython.core.display.HTML object>"
            ],
            "text/html": [
              "<marquee stle = 'width:100%; color:blue;'><b> <h1 style = \"color:SeaGreen; font-family : verdana;\"> Social Network Ads  (Supervised ML)<h1></b></marquee>\n"
            ]
          },
          "metadata": {}
        }
      ]
    },
    {
      "cell_type": "code",
      "execution_count": 216,
      "metadata": {
        "id": "hcdGfhctSZzz"
      },
      "outputs": [],
      "source": [
        "# import libraries\n",
        "import pandas as pd\n",
        "import numpy as np\n",
        "import seaborn as sns\n",
        "import matplotlib.pyplot as plt\n",
        "import warnings\n",
        "from sklearn.preprocessing import LabelEncoder\n",
        "warnings.filterwarnings('ignore')\n",
        "from sklearn.preprocessing import StandardScaler, MinMaxScaler\n",
        "from sklearn.metrics import r2_score, mean_squared_error, accuracy_score\n",
        "from sklearn.linear_model import LinearRegression"
      ]
    },
    {
      "cell_type": "markdown",
      "source": [
        "## **Data Preprocessing**"
      ],
      "metadata": {
        "id": "GyVLoXGw3f3X"
      }
    },
    {
      "cell_type": "markdown",
      "source": [
        " 1.**Load csv File to Data frame**"
      ],
      "metadata": {
        "id": "--U9noQ2E-n-"
      }
    },
    {
      "cell_type": "code",
      "source": [
        "data = pd.read_csv(\"/content/Social_Network_Ads.csv\")"
      ],
      "metadata": {
        "id": "cUaXveFAEoUD"
      },
      "execution_count": 217,
      "outputs": []
    },
    {
      "cell_type": "markdown",
      "source": [
        "2.**Desribe data frame to view the statistical data, mean , std, median ,lower,upper quartile values ,minimum and maximum **bold text** **\n"
      ],
      "metadata": {
        "id": "dQn0tU9OFAxJ"
      }
    },
    {
      "cell_type": "code",
      "source": [
        "data.describe().T"
      ],
      "metadata": {
        "colab": {
          "base_uri": "https://localhost:8080/",
          "height": 175
        },
        "id": "KFaRt6HPEyp_",
        "outputId": "6fee9cf3-85a3-4435-aed6-3baaaf99ab13"
      },
      "execution_count": 218,
      "outputs": [
        {
          "output_type": "execute_result",
          "data": {
            "text/plain": [
              "                 count          mean           std         min          25%  \\\n",
              "User ID          400.0  1.569154e+07  71658.321581  15566689.0  15626763.75   \n",
              "Age              400.0  3.765500e+01     10.482877        18.0        29.75   \n",
              "EstimatedSalary  400.0  6.974250e+04  34096.960282     15000.0     43000.00   \n",
              "Purchased        400.0  3.575000e-01      0.479864         0.0         0.00   \n",
              "\n",
              "                        50%         75%         max  \n",
              "User ID          15694341.5  15750363.0  15815236.0  \n",
              "Age                    37.0        46.0        60.0  \n",
              "EstimatedSalary     70000.0     88000.0    150000.0  \n",
              "Purchased               0.0         1.0         1.0  "
            ],
            "text/html": [
              "\n",
              "\n",
              "  <div id=\"df-c2ddb79c-2824-4dcb-bb0a-b5e2e45097bc\">\n",
              "    <div class=\"colab-df-container\">\n",
              "      <div>\n",
              "<style scoped>\n",
              "    .dataframe tbody tr th:only-of-type {\n",
              "        vertical-align: middle;\n",
              "    }\n",
              "\n",
              "    .dataframe tbody tr th {\n",
              "        vertical-align: top;\n",
              "    }\n",
              "\n",
              "    .dataframe thead th {\n",
              "        text-align: right;\n",
              "    }\n",
              "</style>\n",
              "<table border=\"1\" class=\"dataframe\">\n",
              "  <thead>\n",
              "    <tr style=\"text-align: right;\">\n",
              "      <th></th>\n",
              "      <th>count</th>\n",
              "      <th>mean</th>\n",
              "      <th>std</th>\n",
              "      <th>min</th>\n",
              "      <th>25%</th>\n",
              "      <th>50%</th>\n",
              "      <th>75%</th>\n",
              "      <th>max</th>\n",
              "    </tr>\n",
              "  </thead>\n",
              "  <tbody>\n",
              "    <tr>\n",
              "      <th>User ID</th>\n",
              "      <td>400.0</td>\n",
              "      <td>1.569154e+07</td>\n",
              "      <td>71658.321581</td>\n",
              "      <td>15566689.0</td>\n",
              "      <td>15626763.75</td>\n",
              "      <td>15694341.5</td>\n",
              "      <td>15750363.0</td>\n",
              "      <td>15815236.0</td>\n",
              "    </tr>\n",
              "    <tr>\n",
              "      <th>Age</th>\n",
              "      <td>400.0</td>\n",
              "      <td>3.765500e+01</td>\n",
              "      <td>10.482877</td>\n",
              "      <td>18.0</td>\n",
              "      <td>29.75</td>\n",
              "      <td>37.0</td>\n",
              "      <td>46.0</td>\n",
              "      <td>60.0</td>\n",
              "    </tr>\n",
              "    <tr>\n",
              "      <th>EstimatedSalary</th>\n",
              "      <td>400.0</td>\n",
              "      <td>6.974250e+04</td>\n",
              "      <td>34096.960282</td>\n",
              "      <td>15000.0</td>\n",
              "      <td>43000.00</td>\n",
              "      <td>70000.0</td>\n",
              "      <td>88000.0</td>\n",
              "      <td>150000.0</td>\n",
              "    </tr>\n",
              "    <tr>\n",
              "      <th>Purchased</th>\n",
              "      <td>400.0</td>\n",
              "      <td>3.575000e-01</td>\n",
              "      <td>0.479864</td>\n",
              "      <td>0.0</td>\n",
              "      <td>0.00</td>\n",
              "      <td>0.0</td>\n",
              "      <td>1.0</td>\n",
              "      <td>1.0</td>\n",
              "    </tr>\n",
              "  </tbody>\n",
              "</table>\n",
              "</div>\n",
              "      <button class=\"colab-df-convert\" onclick=\"convertToInteractive('df-c2ddb79c-2824-4dcb-bb0a-b5e2e45097bc')\"\n",
              "              title=\"Convert this dataframe to an interactive table.\"\n",
              "              style=\"display:none;\">\n",
              "\n",
              "  <svg xmlns=\"http://www.w3.org/2000/svg\" height=\"24px\"viewBox=\"0 0 24 24\"\n",
              "       width=\"24px\">\n",
              "    <path d=\"M0 0h24v24H0V0z\" fill=\"none\"/>\n",
              "    <path d=\"M18.56 5.44l.94 2.06.94-2.06 2.06-.94-2.06-.94-.94-2.06-.94 2.06-2.06.94zm-11 1L8.5 8.5l.94-2.06 2.06-.94-2.06-.94L8.5 2.5l-.94 2.06-2.06.94zm10 10l.94 2.06.94-2.06 2.06-.94-2.06-.94-.94-2.06-.94 2.06-2.06.94z\"/><path d=\"M17.41 7.96l-1.37-1.37c-.4-.4-.92-.59-1.43-.59-.52 0-1.04.2-1.43.59L10.3 9.45l-7.72 7.72c-.78.78-.78 2.05 0 2.83L4 21.41c.39.39.9.59 1.41.59.51 0 1.02-.2 1.41-.59l7.78-7.78 2.81-2.81c.8-.78.8-2.07 0-2.86zM5.41 20L4 18.59l7.72-7.72 1.47 1.35L5.41 20z\"/>\n",
              "  </svg>\n",
              "      </button>\n",
              "\n",
              "\n",
              "\n",
              "    <div id=\"df-4643bda4-d368-48b6-8ad9-ea490ebdb20b\">\n",
              "      <button class=\"colab-df-quickchart\" onclick=\"quickchart('df-4643bda4-d368-48b6-8ad9-ea490ebdb20b')\"\n",
              "              title=\"Suggest charts.\"\n",
              "              style=\"display:none;\">\n",
              "\n",
              "<svg xmlns=\"http://www.w3.org/2000/svg\" height=\"24px\"viewBox=\"0 0 24 24\"\n",
              "     width=\"24px\">\n",
              "    <g>\n",
              "        <path d=\"M19 3H5c-1.1 0-2 .9-2 2v14c0 1.1.9 2 2 2h14c1.1 0 2-.9 2-2V5c0-1.1-.9-2-2-2zM9 17H7v-7h2v7zm4 0h-2V7h2v10zm4 0h-2v-4h2v4z\"/>\n",
              "    </g>\n",
              "</svg>\n",
              "      </button>\n",
              "    </div>\n",
              "\n",
              "<style>\n",
              "  .colab-df-quickchart {\n",
              "    background-color: #E8F0FE;\n",
              "    border: none;\n",
              "    border-radius: 50%;\n",
              "    cursor: pointer;\n",
              "    display: none;\n",
              "    fill: #1967D2;\n",
              "    height: 32px;\n",
              "    padding: 0 0 0 0;\n",
              "    width: 32px;\n",
              "  }\n",
              "\n",
              "  .colab-df-quickchart:hover {\n",
              "    background-color: #E2EBFA;\n",
              "    box-shadow: 0px 1px 2px rgba(60, 64, 67, 0.3), 0px 1px 3px 1px rgba(60, 64, 67, 0.15);\n",
              "    fill: #174EA6;\n",
              "  }\n",
              "\n",
              "  [theme=dark] .colab-df-quickchart {\n",
              "    background-color: #3B4455;\n",
              "    fill: #D2E3FC;\n",
              "  }\n",
              "\n",
              "  [theme=dark] .colab-df-quickchart:hover {\n",
              "    background-color: #434B5C;\n",
              "    box-shadow: 0px 1px 3px 1px rgba(0, 0, 0, 0.15);\n",
              "    filter: drop-shadow(0px 1px 2px rgba(0, 0, 0, 0.3));\n",
              "    fill: #FFFFFF;\n",
              "  }\n",
              "</style>\n",
              "\n",
              "    <script>\n",
              "      async function quickchart(key) {\n",
              "        const containerElement = document.querySelector('#' + key);\n",
              "        const charts = await google.colab.kernel.invokeFunction(\n",
              "            'suggestCharts', [key], {});\n",
              "      }\n",
              "    </script>\n",
              "\n",
              "      <script>\n",
              "\n",
              "function displayQuickchartButton(domScope) {\n",
              "  let quickchartButtonEl =\n",
              "    domScope.querySelector('#df-4643bda4-d368-48b6-8ad9-ea490ebdb20b button.colab-df-quickchart');\n",
              "  quickchartButtonEl.style.display =\n",
              "    google.colab.kernel.accessAllowed ? 'block' : 'none';\n",
              "}\n",
              "\n",
              "        displayQuickchartButton(document);\n",
              "      </script>\n",
              "      <style>\n",
              "    .colab-df-container {\n",
              "      display:flex;\n",
              "      flex-wrap:wrap;\n",
              "      gap: 12px;\n",
              "    }\n",
              "\n",
              "    .colab-df-convert {\n",
              "      background-color: #E8F0FE;\n",
              "      border: none;\n",
              "      border-radius: 50%;\n",
              "      cursor: pointer;\n",
              "      display: none;\n",
              "      fill: #1967D2;\n",
              "      height: 32px;\n",
              "      padding: 0 0 0 0;\n",
              "      width: 32px;\n",
              "    }\n",
              "\n",
              "    .colab-df-convert:hover {\n",
              "      background-color: #E2EBFA;\n",
              "      box-shadow: 0px 1px 2px rgba(60, 64, 67, 0.3), 0px 1px 3px 1px rgba(60, 64, 67, 0.15);\n",
              "      fill: #174EA6;\n",
              "    }\n",
              "\n",
              "    [theme=dark] .colab-df-convert {\n",
              "      background-color: #3B4455;\n",
              "      fill: #D2E3FC;\n",
              "    }\n",
              "\n",
              "    [theme=dark] .colab-df-convert:hover {\n",
              "      background-color: #434B5C;\n",
              "      box-shadow: 0px 1px 3px 1px rgba(0, 0, 0, 0.15);\n",
              "      filter: drop-shadow(0px 1px 2px rgba(0, 0, 0, 0.3));\n",
              "      fill: #FFFFFF;\n",
              "    }\n",
              "  </style>\n",
              "\n",
              "      <script>\n",
              "        const buttonEl =\n",
              "          document.querySelector('#df-c2ddb79c-2824-4dcb-bb0a-b5e2e45097bc button.colab-df-convert');\n",
              "        buttonEl.style.display =\n",
              "          google.colab.kernel.accessAllowed ? 'block' : 'none';\n",
              "\n",
              "        async function convertToInteractive(key) {\n",
              "          const element = document.querySelector('#df-c2ddb79c-2824-4dcb-bb0a-b5e2e45097bc');\n",
              "          const dataTable =\n",
              "            await google.colab.kernel.invokeFunction('convertToInteractive',\n",
              "                                                     [key], {});\n",
              "          if (!dataTable) return;\n",
              "\n",
              "          const docLinkHtml = 'Like what you see? Visit the ' +\n",
              "            '<a target=\"_blank\" href=https://colab.research.google.com/notebooks/data_table.ipynb>data table notebook</a>'\n",
              "            + ' to learn more about interactive tables.';\n",
              "          element.innerHTML = '';\n",
              "          dataTable['output_type'] = 'display_data';\n",
              "          await google.colab.output.renderOutput(dataTable, element);\n",
              "          const docLink = document.createElement('div');\n",
              "          docLink.innerHTML = docLinkHtml;\n",
              "          element.appendChild(docLink);\n",
              "        }\n",
              "      </script>\n",
              "    </div>\n",
              "  </div>\n"
            ]
          },
          "metadata": {},
          "execution_count": 218
        }
      ]
    },
    {
      "cell_type": "markdown",
      "source": [
        "3. **info() of the data shows integer and object columns of Social Network Purchase. There are  no Nulls in the data**\n",
        "**We are filtering Age,salary,Purchased data columns to analyze**\n",
        "\n",
        "**The target variable is Purchased**\n",
        "**The input Features are Age,Estimated Salary**\n",
        "1.   UserID - List of users int64\n",
        "2.   Gender - Object\n",
        "3.   Age integer\n",
        "4.  Estimated Salary - integer\n",
        "5. Purchased - Integer\n"
      ],
      "metadata": {
        "id": "ZxvW8A2aFTIv"
      }
    },
    {
      "cell_type": "code",
      "source": [
        "data.info()"
      ],
      "metadata": {
        "colab": {
          "base_uri": "https://localhost:8080/"
        },
        "id": "l-27EUVOFXBY",
        "outputId": "3dab4322-c159-4fba-d0cc-4afc7fe4beba"
      },
      "execution_count": 219,
      "outputs": [
        {
          "output_type": "stream",
          "name": "stdout",
          "text": [
            "<class 'pandas.core.frame.DataFrame'>\n",
            "RangeIndex: 400 entries, 0 to 399\n",
            "Data columns (total 5 columns):\n",
            " #   Column           Non-Null Count  Dtype \n",
            "---  ------           --------------  ----- \n",
            " 0   User ID          400 non-null    int64 \n",
            " 1   Gender           400 non-null    object\n",
            " 2   Age              400 non-null    int64 \n",
            " 3   EstimatedSalary  400 non-null    int64 \n",
            " 4   Purchased        400 non-null    int64 \n",
            "dtypes: int64(4), object(1)\n",
            "memory usage: 15.8+ KB\n"
          ]
        }
      ]
    },
    {
      "cell_type": "markdown",
      "source": [
        "# **EDA - Visual Analyzation of data**\n",
        "\n"
      ],
      "metadata": {
        "id": "xiX0DWl_Kvfu"
      }
    },
    {
      "cell_type": "markdown",
      "source": [
        "4. **Copy only columns needed to analyze data:  age,salary and Purchased to new dataframe**\n",
        "Copy Purchased to \"Y\"\n",
        "Copy Age,salary to X\n"
      ],
      "metadata": {
        "id": "lgDnl5BL10QW"
      }
    },
    {
      "cell_type": "code",
      "source": [
        "data.shape\n",
        "data_2 = data[['Age','EstimatedSalary','Purchased']]"
      ],
      "metadata": {
        "id": "ucNMn60uG7ZQ"
      },
      "execution_count": 220,
      "outputs": []
    },
    {
      "cell_type": "markdown",
      "source": [],
      "metadata": {
        "id": "m8Xdd4rHKufb"
      }
    },
    {
      "cell_type": "code",
      "source": [
        "X= data.iloc[:,[2,3]].values\n",
        "y= data.iloc[:,[4]].values\n"
      ],
      "metadata": {
        "id": "09SuxBPjv2ca"
      },
      "execution_count": 221,
      "outputs": []
    },
    {
      "cell_type": "markdown",
      "source": [
        "**Changed Test size to .2 to increase accuracy**"
      ],
      "metadata": {
        "id": "Y75LlFvqYtDh"
      }
    },
    {
      "cell_type": "code",
      "source": [
        "from sklearn.model_selection import train_test_split\n",
        "X_train,X_test,y_train,y_test = train_test_split(X,y,test_size = 0.2, random_state =0)"
      ],
      "metadata": {
        "id": "LONy4I059R3X"
      },
      "execution_count": 235,
      "outputs": []
    },
    {
      "cell_type": "markdown",
      "source": [
        "**SCALAR TRANSFORMATION**"
      ],
      "metadata": {
        "id": "ZvOyu6gwYVSP"
      }
    },
    {
      "cell_type": "code",
      "source": [
        "from sklearn.preprocessing import StandardScaler\n",
        "\n",
        "sc_x = StandardScaler()\n",
        "X_train = sc_x.fit_transform(X_train)\n",
        "X_test = sc_x.transform(X_test)"
      ],
      "metadata": {
        "id": "rxO5RMFlN5Nk"
      },
      "execution_count": 236,
      "outputs": []
    },
    {
      "cell_type": "code",
      "source": [
        "print(X_train)"
      ],
      "metadata": {
        "id": "nhD-s1XJN5i3"
      },
      "execution_count": null,
      "outputs": []
    },
    {
      "cell_type": "code",
      "source": [
        "from sklearn.linear_model import LogisticRegression\n",
        "model_1_classifier = LogisticRegression()\n",
        "model_1_classifier.fit(X_train,y_train)"
      ],
      "metadata": {
        "colab": {
          "base_uri": "https://localhost:8080/",
          "height": 74
        },
        "id": "i8DdKMvmOpps",
        "outputId": "35b976c3-acf3-4f54-a617-df0f17657587"
      },
      "execution_count": 237,
      "outputs": [
        {
          "output_type": "execute_result",
          "data": {
            "text/plain": [
              "LogisticRegression()"
            ],
            "text/html": [
              "<style>#sk-container-id-13 {color: black;background-color: white;}#sk-container-id-13 pre{padding: 0;}#sk-container-id-13 div.sk-toggleable {background-color: white;}#sk-container-id-13 label.sk-toggleable__label {cursor: pointer;display: block;width: 100%;margin-bottom: 0;padding: 0.3em;box-sizing: border-box;text-align: center;}#sk-container-id-13 label.sk-toggleable__label-arrow:before {content: \"▸\";float: left;margin-right: 0.25em;color: #696969;}#sk-container-id-13 label.sk-toggleable__label-arrow:hover:before {color: black;}#sk-container-id-13 div.sk-estimator:hover label.sk-toggleable__label-arrow:before {color: black;}#sk-container-id-13 div.sk-toggleable__content {max-height: 0;max-width: 0;overflow: hidden;text-align: left;background-color: #f0f8ff;}#sk-container-id-13 div.sk-toggleable__content pre {margin: 0.2em;color: black;border-radius: 0.25em;background-color: #f0f8ff;}#sk-container-id-13 input.sk-toggleable__control:checked~div.sk-toggleable__content {max-height: 200px;max-width: 100%;overflow: auto;}#sk-container-id-13 input.sk-toggleable__control:checked~label.sk-toggleable__label-arrow:before {content: \"▾\";}#sk-container-id-13 div.sk-estimator input.sk-toggleable__control:checked~label.sk-toggleable__label {background-color: #d4ebff;}#sk-container-id-13 div.sk-label input.sk-toggleable__control:checked~label.sk-toggleable__label {background-color: #d4ebff;}#sk-container-id-13 input.sk-hidden--visually {border: 0;clip: rect(1px 1px 1px 1px);clip: rect(1px, 1px, 1px, 1px);height: 1px;margin: -1px;overflow: hidden;padding: 0;position: absolute;width: 1px;}#sk-container-id-13 div.sk-estimator {font-family: monospace;background-color: #f0f8ff;border: 1px dotted black;border-radius: 0.25em;box-sizing: border-box;margin-bottom: 0.5em;}#sk-container-id-13 div.sk-estimator:hover {background-color: #d4ebff;}#sk-container-id-13 div.sk-parallel-item::after {content: \"\";width: 100%;border-bottom: 1px solid gray;flex-grow: 1;}#sk-container-id-13 div.sk-label:hover label.sk-toggleable__label {background-color: #d4ebff;}#sk-container-id-13 div.sk-serial::before {content: \"\";position: absolute;border-left: 1px solid gray;box-sizing: border-box;top: 0;bottom: 0;left: 50%;z-index: 0;}#sk-container-id-13 div.sk-serial {display: flex;flex-direction: column;align-items: center;background-color: white;padding-right: 0.2em;padding-left: 0.2em;position: relative;}#sk-container-id-13 div.sk-item {position: relative;z-index: 1;}#sk-container-id-13 div.sk-parallel {display: flex;align-items: stretch;justify-content: center;background-color: white;position: relative;}#sk-container-id-13 div.sk-item::before, #sk-container-id-13 div.sk-parallel-item::before {content: \"\";position: absolute;border-left: 1px solid gray;box-sizing: border-box;top: 0;bottom: 0;left: 50%;z-index: -1;}#sk-container-id-13 div.sk-parallel-item {display: flex;flex-direction: column;z-index: 1;position: relative;background-color: white;}#sk-container-id-13 div.sk-parallel-item:first-child::after {align-self: flex-end;width: 50%;}#sk-container-id-13 div.sk-parallel-item:last-child::after {align-self: flex-start;width: 50%;}#sk-container-id-13 div.sk-parallel-item:only-child::after {width: 0;}#sk-container-id-13 div.sk-dashed-wrapped {border: 1px dashed gray;margin: 0 0.4em 0.5em 0.4em;box-sizing: border-box;padding-bottom: 0.4em;background-color: white;}#sk-container-id-13 div.sk-label label {font-family: monospace;font-weight: bold;display: inline-block;line-height: 1.2em;}#sk-container-id-13 div.sk-label-container {text-align: center;}#sk-container-id-13 div.sk-container {/* jupyter's `normalize.less` sets `[hidden] { display: none; }` but bootstrap.min.css set `[hidden] { display: none !important; }` so we also need the `!important` here to be able to override the default hidden behavior on the sphinx rendered scikit-learn.org. See: https://github.com/scikit-learn/scikit-learn/issues/21755 */display: inline-block !important;position: relative;}#sk-container-id-13 div.sk-text-repr-fallback {display: none;}</style><div id=\"sk-container-id-13\" class=\"sk-top-container\"><div class=\"sk-text-repr-fallback\"><pre>LogisticRegression()</pre><b>In a Jupyter environment, please rerun this cell to show the HTML representation or trust the notebook. <br />On GitHub, the HTML representation is unable to render, please try loading this page with nbviewer.org.</b></div><div class=\"sk-container\" hidden><div class=\"sk-item\"><div class=\"sk-estimator sk-toggleable\"><input class=\"sk-toggleable__control sk-hidden--visually\" id=\"sk-estimator-id-13\" type=\"checkbox\" checked><label for=\"sk-estimator-id-13\" class=\"sk-toggleable__label sk-toggleable__label-arrow\">LogisticRegression</label><div class=\"sk-toggleable__content\"><pre>LogisticRegression()</pre></div></div></div></div></div>"
            ]
          },
          "metadata": {},
          "execution_count": 237
        }
      ]
    },
    {
      "cell_type": "code",
      "source": [
        "y_pred = model_1_classifier.predict(X_test)\n",
        "y_pred"
      ],
      "metadata": {
        "colab": {
          "base_uri": "https://localhost:8080/"
        },
        "id": "ycPsQroPPNZN",
        "outputId": "c931c8cd-41a4-4263-b9bc-90b896c94e5e"
      },
      "execution_count": 238,
      "outputs": [
        {
          "output_type": "execute_result",
          "data": {
            "text/plain": [
              "array([0, 0, 0, 0, 0, 0, 0, 1, 0, 0, 0, 0, 0, 0, 0, 0, 0, 0, 1, 0, 0, 1,\n",
              "       0, 1, 0, 1, 0, 0, 0, 0, 0, 0, 1, 0, 0, 0, 0, 0, 0, 1, 0, 0, 0, 0,\n",
              "       1, 0, 0, 1, 0, 1, 1, 0, 0, 0, 1, 0, 0, 0, 0, 0, 0, 1, 0, 0, 0, 1,\n",
              "       0, 0, 0, 0, 1, 0, 0, 0, 0, 0, 1, 0, 1, 1])"
            ]
          },
          "metadata": {},
          "execution_count": 238
        }
      ]
    },
    {
      "cell_type": "markdown",
      "source": [
        "FP and FN are 1 and 5. Showing inaccurate data. TP and TN are 57 and 17."
      ],
      "metadata": {
        "id": "NPdvxLhAY_y7"
      }
    },
    {
      "cell_type": "code",
      "source": [
        "from sklearn import metrics\n",
        "print(metrics.confusion_matrix(y_test, y_pred, labels = [0,1]))"
      ],
      "metadata": {
        "colab": {
          "base_uri": "https://localhost:8080/"
        },
        "id": "0ng2SjiQPbX-",
        "outputId": "e7d3c560-486c-4582-ae4e-9e7ad3dbcf47"
      },
      "execution_count": 239,
      "outputs": [
        {
          "output_type": "stream",
          "name": "stdout",
          "text": [
            "[[57  1]\n",
            " [ 5 17]]\n"
          ]
        }
      ]
    },
    {
      "cell_type": "markdown",
      "source": [
        "Report Shows accuracy of 93 percent."
      ],
      "metadata": {
        "id": "9mIrJ86qZMBt"
      }
    },
    {
      "cell_type": "code",
      "source": [
        "print(metrics.classification_report(y_test,y_pred, labels = [0,1]))"
      ],
      "metadata": {
        "colab": {
          "base_uri": "https://localhost:8080/"
        },
        "id": "MCioBLLKP1yc",
        "outputId": "243ab327-82e3-4f5b-bed6-47c8284453d1"
      },
      "execution_count": 240,
      "outputs": [
        {
          "output_type": "stream",
          "name": "stdout",
          "text": [
            "              precision    recall  f1-score   support\n",
            "\n",
            "           0       0.92      0.98      0.95        58\n",
            "           1       0.94      0.77      0.85        22\n",
            "\n",
            "    accuracy                           0.93        80\n",
            "   macro avg       0.93      0.88      0.90        80\n",
            "weighted avg       0.93      0.93      0.92        80\n",
            "\n"
          ]
        }
      ]
    },
    {
      "cell_type": "code",
      "source": [
        "#  from numba.core.types import scalars\n",
        "#  from sklearn.preprocessing import StandardScaler\n",
        "#  scaler = StandardScaler()\n",
        "# # #Fit the scalar to data\n",
        "#  scaler_data = X\n",
        "#  scaler.fit(X)\n",
        "# # #Transform data\n",
        "#  X_scaled = scaler.transform(X)\n",
        "# # X_scaled[:400,1:]\n",
        "#  #X_scaled\n"
      ],
      "metadata": {
        "id": "Jjo6KrvH9T0E"
      },
      "execution_count": 229,
      "outputs": []
    },
    {
      "cell_type": "markdown",
      "source": [
        "Example of Merging and concatinating dataframes"
      ],
      "metadata": {
        "id": "6lq3uIisaLu8"
      }
    },
    {
      "cell_type": "code",
      "source": [
        "# To join the dataframes in oython, we can use pd.merge(), fucntion from the pandas library.\n",
        "'''\n",
        "The merge function allows us to combine dataframe based on a common column index.\n",
        "'''\n",
        "df1 = pd.DataFrame({'ID':[1,2,3],\n",
        "                    'Name':['John','HHH','Rock'],\n",
        "                    'Age':[22,29,22]})\n",
        "df2 = pd.DataFrame({'ID':[2,3,4],\n",
        "                    'Salary':[50000,60000,70000],\n",
        "                    'Departemnt':['Fight for USA','Fight for Canada','Fight for Argentina']})\n",
        "\n",
        "# we perform the merge over here\n",
        "result = pd.merge(df1, df2, on = 'ID', how = 'inner')\n",
        "print(df1)\n",
        "print(df2)\n",
        "print(result)"
      ],
      "metadata": {
        "colab": {
          "base_uri": "https://localhost:8080/"
        },
        "id": "ypPqQPhEGLu5",
        "outputId": "70f47a2e-1dae-4297-89a1-88bcad6dc7b7"
      },
      "execution_count": 230,
      "outputs": [
        {
          "output_type": "stream",
          "name": "stdout",
          "text": [
            "   ID  Name  Age\n",
            "0   1  John   22\n",
            "1   2   HHH   29\n",
            "2   3  Rock   22\n",
            "   ID  Salary           Departemnt\n",
            "0   2   50000        Fight for USA\n",
            "1   3   60000     Fight for Canada\n",
            "2   4   70000  Fight for Argentina\n",
            "   ID  Name  Age  Salary        Departemnt\n",
            "0   2   HHH   29   50000     Fight for USA\n",
            "1   3  Rock   22   60000  Fight for Canada\n"
          ]
        }
      ]
    },
    {
      "cell_type": "code",
      "source": [
        "'''\n",
        "To concatenate 2 df in  python we can use pd.concat(),\n",
        "we combine them vertically or horizontally (along the row or along the column)\n",
        "'''\n",
        "df1 = pd.DataFrame({'ID':[1,2,3],\n",
        "                    'Name':['John','HHH','Rock'],\n",
        "                    'Age':[22,29,22]})\n",
        "df2 = pd.DataFrame({'ID':[2,3,4],\n",
        "                    'Salary':[50000,60000,70000],\n",
        "                    'Departemnt':['Fight for USA','Fight for Canada','Fight for Argentina']})\n",
        "\n",
        "# we perform the merge over here\n",
        "result = pd.concat([df1,df2], axis = 0).reset_index()\n",
        "print(df1)\n",
        "print(df2)\n",
        "print(result)\n"
      ],
      "metadata": {
        "colab": {
          "base_uri": "https://localhost:8080/"
        },
        "id": "nB3YB0Ap9KpC",
        "outputId": "5cb571da-c7dd-4a88-ab97-35d382842dd4"
      },
      "execution_count": 231,
      "outputs": [
        {
          "output_type": "stream",
          "name": "stdout",
          "text": [
            "   ID  Name  Age\n",
            "0   1  John   22\n",
            "1   2   HHH   29\n",
            "2   3  Rock   22\n",
            "   ID  Salary           Departemnt\n",
            "0   2   50000        Fight for USA\n",
            "1   3   60000     Fight for Canada\n",
            "2   4   70000  Fight for Argentina\n",
            "   index  ID  Name   Age   Salary           Departemnt\n",
            "0      0   1  John  22.0      NaN                  NaN\n",
            "1      1   2   HHH  29.0      NaN                  NaN\n",
            "2      2   3  Rock  22.0      NaN                  NaN\n",
            "3      0   2   NaN   NaN  50000.0        Fight for USA\n",
            "4      1   3   NaN   NaN  60000.0     Fight for Canada\n",
            "5      2   4   NaN   NaN  70000.0  Fight for Argentina\n"
          ]
        }
      ]
    },
    {
      "cell_type": "markdown",
      "source": [
        "**Correlation** data **analysis**: Age has more to do with the  **Purchased** than the Salary"
      ],
      "metadata": {
        "id": "aihOLKJ2ZxVM"
      }
    },
    {
      "cell_type": "code",
      "source": [
        "# corr()\n",
        "data_corr = data_2.corr()\n",
        "plt.figure(figsize = (8,8))\n",
        "\n",
        "sns.heatmap(data_corr, cmap = 'coolwarm', linewidths = 0.1, annot = True, linecolor = 'White')"
      ],
      "metadata": {
        "colab": {
          "base_uri": "https://localhost:8080/",
          "height": 699
        },
        "id": "RVMpQUAlwhjA",
        "outputId": "c2c2a8de-2f02-440a-e0d5-e312d9735c6d"
      },
      "execution_count": 232,
      "outputs": [
        {
          "output_type": "execute_result",
          "data": {
            "text/plain": [
              "<Axes: >"
            ]
          },
          "metadata": {},
          "execution_count": 232
        },
        {
          "output_type": "display_data",
          "data": {
            "text/plain": [
              "<Figure size 800x800 with 2 Axes>"
            ],
            "image/png": "[encoded data removed]"
          },
          "metadata": {}
        }
      ]
    },
    {
      "cell_type": "markdown",
      "source": [
        "Density plot"
      ],
      "metadata": {
        "id": "3P8xhury4lhc"
      }
    },
    {
      "cell_type": "code",
      "source": [
        "# for checking fucntioning and non functioning day,plot (hour VS Rented Bike COunt Graph)\n",
        "\n",
        "def barplots(x,y,hue):\n",
        "  plt.figure(figsize = (15,7))\n",
        "  sns.set_palette('husl')\n",
        "  sns.barplot(x = x,y = y,hue = hue, data=data_2)\n"
      ],
      "metadata": {
        "id": "bgX_xYUm4nTb"
      },
      "execution_count": 233,
      "outputs": []
    },
    {
      "cell_type": "markdown",
      "source": [
        "**Barplot for Purchased with Estimated Salary, The Purchased are in the higher Salary**"
      ],
      "metadata": {
        "id": "-iANGxTmXEtX"
      }
    },
    {
      "cell_type": "code",
      "source": [
        "barplots('Purchased','EstimatedSalary','Purchased')"
      ],
      "metadata": {
        "colab": {
          "base_uri": "https://localhost:8080/",
          "height": 619
        },
        "id": "u_hP6YuKriHb",
        "outputId": "bbfd5b84-58e5-4a67-c1b4-6717a84fd07b"
      },
      "execution_count": 234,
      "outputs": [
        {
          "output_type": "display_data",
          "data": {
            "text/plain": [
              "<Figure size 1500x700 with 1 Axes>"
            ],
            "image/png": "[encoded data removed]"
          },
          "metadata": {}
        }
      ]
    }
  ]
}